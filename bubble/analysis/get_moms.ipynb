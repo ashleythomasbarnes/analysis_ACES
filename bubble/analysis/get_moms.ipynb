{
 "cells": [
  {
   "cell_type": "code",
   "execution_count": 7,
   "id": "6a8c6b71-5b64-4e4d-ac80-3eefef7bd4f0",
   "metadata": {},
   "outputs": [],
   "source": [
    "from data_cube_analysis import getdata, rms, masks, moments\n",
    "from astropy import units as u \n",
    "from astropy.io import fits\n",
    "import matplotlib.pyplot as plt\n",
    "import spectral_cube\n",
    "import numpy as np\n",
    "import warnings\n",
    "warnings.filterwarnings('ignore')"
   ]
  },
  {
   "cell_type": "code",
   "execution_count": 12,
   "id": "50db866e-d1b1-43bd-8dda-2040cebf2aa4",
   "metadata": {},
   "outputs": [],
   "source": [
    "def get_moms(inputfile, velo=np.array([-200,200]), rmsvelo=[[-300,-200],[200,300]], hthresh=5, lthresh=2):\n",
    "    '''\n",
    "    This function computes the moments (integrated properties) of spectral line data from a FITS cube.\n",
    "    \n",
    "    Args:\n",
    "    inputfile (str): Path to the input FITS file.\n",
    "    velo (np.array): Array representing velocity bounds for the calculation of moments. Default is [-200,200].\n",
    "    rmsvelo (list): List of two lists, each representing a pair of velocity bounds for the calculation of root mean square (RMS). Default is [[-300,-200],[200,300]].\n",
    "    hthresh (float): High threshold value for the mask. Default is 5.\n",
    "    lthresh (float): Low threshold value for the mask. Default is 2.\n",
    "    \n",
    "    Returns:\n",
    "    tuple: Tuple containing the original header-data unit (HDU), the data cube, the RMS map, and the moment maps.\n",
    "    '''\n",
    "\n",
    "    # Use the get_cube function from the getdata module to extract the data cube from the FITS file.\n",
    "    cube = getdata.get_cube(inputfile)\n",
    "\n",
    "    # Use the get_rms function from the rms module to compute the RMS map of the cube over the specified velocity range.\n",
    "    rms_map = rms.get_rms(cube, rmsvelo)\n",
    "    \n",
    "    # Use the get_expmask function from the masks module to generate a mask for the cube using the specified thresholds and the RMS map.\n",
    "    mask = masks.get_expmask(cube, rms_map, hthresh=hthresh, lthresh=lthresh, npix=2)\n",
    "    \n",
    "    # Apply the mask to the cube.\n",
    "    cube_masked = cube.with_mask(mask)\n",
    "    \n",
    "    # Use the get_momentmaps function from the moments module to compute moment maps of the masked cube over the specified velocity range.\n",
    "    moms = moments.get_momentmaps(cube_masked, rms_map, velo, velomoms=True)\n",
    "   \n",
    "    # Define the output file name by removing '.fits' from the input file name.\n",
    "    outputfile = inputfile.replace('.fits', '')\n",
    "    \n",
    "    # Write the zeroth moment map (integrated intensity) to a FITS file.\n",
    "    moms['mom0'].writeto('%s.mom0.fits' %outputfile, overwrite=True)\n",
    "    \n",
    "    # Write the first moment map (velocity) to a FITS file.\n",
    "    moms['mom1'].writeto('%s.mom1.fits' %outputfile, overwrite=True)\n",
    "    \n",
    "    # Write the maximum intensity map to a FITS file.\n",
    "    moms['max'].writeto('%s.max.fits' %outputfile, overwrite=True)\n",
    "    \n",
    "    # Write the signal-to-noise ratio map of the zeroth moment to a FITS file.\n",
    "    moms['mom0s2n'].writeto('%s.mom0_s2n.fits' %outputfile, overwrite=True)\n",
    "    \n",
    "    # Write the second moment map to a FITS file.\n",
    "    moms['sigma'].writeto('%s.sigma.fits' %outputfile, overwrite=True)\n",
    "    \n",
    "    # Write the RMS to a FITS file.\n",
    "    rms_map.writeto('%s.rms.fits' %outputfile, overwrite=True)\n",
    "    \n",
    "    # Return the original HDU, the data cube, the RMS map, and the moment maps.\n",
    "    return(cube, rms_map, moms)"
   ]
  },
  {
   "cell_type": "code",
   "execution_count": 13,
   "id": "f942946b-8cfb-4313-a4b5-d41168e65e50",
   "metadata": {},
   "outputs": [],
   "source": [
    "inputfile = '/Users/abarnes/Dropbox/work/Smallprojects/aces/data/alma/12m7mtp_bubble/hnco43.TP_7M_12M_weighted_mosaic.K.kms.galactic.fits'\n",
    "rmsvelo = [[-44.5,-37], [123,130]]\n",
    "momvelo = np.array([-5,75])\n",
    "\n",
    "cube, rms_map, moms = get_moms(inputfile, momvelo, rmsvelo)"
   ]
  },
  {
   "cell_type": "code",
   "execution_count": 14,
   "id": "87d897c8-528e-4ab4-9d18-198f6a21dd73",
   "metadata": {},
   "outputs": [],
   "source": [
    "inputfile = '/Users/abarnes/Dropbox/work/Smallprojects/aces/data/alma/12m7mtp_bubble/hnco43.TP_7M_12M_weighted_mosaic.rebin.K.kms.0.5kmschannel.galactic.fits'\n",
    "rmsvelo = [[-44.5,-37], [123,130]]\n",
    "momvelo = np.array([-5,75])\n",
    "\n",
    "cube, rms_map, moms = get_moms(inputfile, momvelo, rmsvelo)"
   ]
  },
  {
   "cell_type": "code",
   "execution_count": null,
   "id": "31d20f69-fed7-4a7e-8e38-fba55132a84b",
   "metadata": {},
   "outputs": [],
   "source": []
  }
 ],
 "metadata": {
  "kernelspec": {
   "display_name": "Python 3 (ipykernel)",
   "language": "python",
   "name": "python3"
  },
  "language_info": {
   "codemirror_mode": {
    "name": "ipython",
    "version": 3
   },
   "file_extension": ".py",
   "mimetype": "text/x-python",
   "name": "python",
   "nbconvert_exporter": "python",
   "pygments_lexer": "ipython3",
   "version": "3.9.13"
  }
 },
 "nbformat": 4,
 "nbformat_minor": 5
}
