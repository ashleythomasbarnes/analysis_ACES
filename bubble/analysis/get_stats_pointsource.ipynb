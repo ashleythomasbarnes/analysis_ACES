{
 "cells": [
  {
   "cell_type": "code",
   "execution_count": 1,
   "id": "3bb90357-3450-4e87-94c4-4f0e19fbb836",
   "metadata": {},
   "outputs": [],
   "source": [
    "import numpy as np\n",
    "from astropy import units as u \n",
    "from astropy import constants as c\n",
    "import matplotlib.pyplot as plt\n",
    "\n",
    "plt.style.use('paper')"
   ]
  },
  {
   "cell_type": "code",
   "execution_count": 2,
   "id": "ff68bdb7",
   "metadata": {},
   "outputs": [],
   "source": [
    "def get_Nly(fluxdensity, frequency, distance, Te=1e4*u.K):\n",
    "\n",
    "    a = 4.771e42\n",
    "    b = fluxdensity.to('Jy').value\n",
    "    c = frequency.to('GHz').value**0.1\n",
    "    d = (Te.to('K').value)**-0.45\n",
    "    e = distance.to('pc').value**2\n",
    "\n",
    "    Nly = (a*b*c*d*e) *u.s\n",
    "\n",
    "    return(Nly)"
   ]
  },
  {
   "cell_type": "code",
   "execution_count": 4,
   "id": "2c0f1aef",
   "metadata": {},
   "outputs": [
    {
     "data": {
      "text/latex": [
       "$47.597391 \\; ex(s$"
      ],
      "text/plain": [
       "<Dex 47.59739081 dex(s)>"
      ]
     },
     "execution_count": 4,
     "metadata": {},
     "output_type": "execute_result"
    }
   ],
   "source": [
    "# Young stellar mass\n",
    "\n",
    "fluxdensity = 36 * u.mJy\n",
    "# fluxdensity = 9 * u.mJy\n",
    "Te = 5000*u.K\n",
    "frequency = 98.6*u.GHz\n",
    "distance = 8.2*u.kpc\n",
    "\n",
    "get_Nly(fluxdensity, frequency, distance, Te).to('dex(s)')"
   ]
  }
 ],
 "metadata": {
  "kernelspec": {
   "display_name": "Python 3 (ipykernel)",
   "language": "python",
   "name": "python3"
  },
  "language_info": {
   "codemirror_mode": {
    "name": "ipython",
    "version": 3
   },
   "file_extension": ".py",
   "mimetype": "text/x-python",
   "name": "python",
   "nbconvert_exporter": "python",
   "pygments_lexer": "ipython3",
   "version": "3.9.undefined"
  }
 },
 "nbformat": 4,
 "nbformat_minor": 5
}
