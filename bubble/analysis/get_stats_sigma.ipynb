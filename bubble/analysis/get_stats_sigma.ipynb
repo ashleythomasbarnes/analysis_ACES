{
 "cells": [
  {
   "cell_type": "code",
   "execution_count": 8,
   "id": "3bb90357-3450-4e87-94c4-4f0e19fbb836",
   "metadata": {},
   "outputs": [],
   "source": [
    "import numpy as np\n",
    "from astropy import units as u \n",
    "from astropy import constants as c\n",
    "from radio_beam import Beam\n",
    "import matplotlib.pyplot as plt\n",
    "\n",
    "plt.style.use('paper')"
   ]
  },
  {
   "cell_type": "code",
   "execution_count": 34,
   "id": "b1afb686",
   "metadata": {},
   "outputs": [
    {
     "name": "stderr",
     "output_type": "stream",
     "text": [
      "WARNING: UnitsWarning: 'W*m^-2/Hz/sr' contains multiple slashes, which is discouraged by the FITS standard [astropy.units.format.generic]\n"
     ]
    },
    {
     "data": {
      "text/plain": [
       "(<Quantity 2.3467448e-21 W / (Hz sr m2)>,\n",
       " <Quantity 3.00383334e-21 W / (Hz sr m2)>)"
      ]
     },
     "execution_count": 34,
     "metadata": {},
     "output_type": "execute_result"
    }
   ],
   "source": [
    "my_beam = Beam(4*u.arcsec)\n",
    "fluxdensity = 1e-4 *u.Jy/u.beam\n",
    "freq = 1.28*u.GHz\n",
    "spectralindex = -1\n",
    "flux = (fluxdensity/(my_beam.sr/u.beam)).to('W*m^-2/Hz/sr')\n",
    "flux_scaled = flux * (1*u.GHz/freq)**spectralindex\n",
    "flux, flux_scaled"
   ]
  },
  {
   "cell_type": "code",
   "execution_count": 37,
   "id": "cc13e815",
   "metadata": {},
   "outputs": [],
   "source": [
    "def get_D(flux):\n",
    "    \"\"\"See Case et al. 1998\"\"\"\n",
    "    D = (flux.value / 5.43e-17)**(1/-2.64)\n",
    "    return(D *u.pc)\n",
    "\n",
    "Diameter = get_D(flux_scaled)"
   ]
  },
  {
   "cell_type": "code",
   "execution_count": 38,
   "id": "73aef272",
   "metadata": {},
   "outputs": [
    {
     "data": {
      "text/latex": [
       "$40.977642 \\; \\mathrm{pc}$"
      ],
      "text/plain": [
       "<Quantity 40.97764242 pc>"
      ]
     },
     "execution_count": 38,
     "metadata": {},
     "output_type": "execute_result"
    }
   ],
   "source": [
    "Diameter"
   ]
  },
  {
   "cell_type": "code",
   "execution_count": null,
   "id": "6e08013e",
   "metadata": {},
   "outputs": [],
   "source": []
  }
 ],
 "metadata": {
  "kernelspec": {
   "display_name": "Python 3 (ipykernel)",
   "language": "python",
   "name": "python3"
  },
  "language_info": {
   "codemirror_mode": {
    "name": "ipython",
    "version": 3
   },
   "file_extension": ".py",
   "mimetype": "text/x-python",
   "name": "python",
   "nbconvert_exporter": "python",
   "pygments_lexer": "ipython3",
   "version": "3.9.13"
  }
 },
 "nbformat": 4,
 "nbformat_minor": 5
}
