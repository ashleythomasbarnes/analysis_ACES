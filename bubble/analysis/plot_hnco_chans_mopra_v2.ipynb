{
 "cells": [
  {
   "cell_type": "code",
   "execution_count": 1,
   "id": "18f6ba79-5ee8-487d-a283-f7cc8e3c634f",
   "metadata": {},
   "outputs": [],
   "source": [
    "import numpy as np\n",
    "from astropy import units as u \n",
    "from astropy.io import fits\n",
    "import matplotlib.pyplot as plt\n",
    "import aplpy\n",
    "from math import ceil\n",
    "from astropy import stats \n",
    "from glob import glob\n",
    "import matplotlib as mpl\n",
    "from tqdm import tqdm\n",
    "\n",
    "import sys\n",
    "sys.path.append('/Users/abarnes/GitHub/misc/')\n",
    "from data_cube_analysis import getdata\n",
    "\n",
    "plt.style.use('paper.mplstyle')"
   ]
  },
  {
   "cell_type": "code",
   "execution_count": 2,
   "id": "654f82f7-11af-4bf3-ae3d-ae226e706fbc",
   "metadata": {},
   "outputs": [],
   "source": [
    "def get_channel_maps(input, start=-200, stop=200, step=20):\n",
    "    \"\"\"\n",
    "    This function calculates the zeroth moment (total intensity) for each velocity channel in a data cube,\n",
    "    and writes the results to a FITS file.\n",
    "\n",
    "    Args:\n",
    "    input (str, cube): Filename or cube object... \n",
    "    start (int): The start of the velocity range for channel extraction. Default is -200 km/s.\n",
    "    stop (int): The end of the velocity range for channel extraction. Default is 200 km/s.\n",
    "    step (int): The velocity step size for channel extraction. Default is 20 km/s.\n",
    "\n",
    "    Returns:\n",
    "    None\n",
    "    \"\"\"\n",
    "\n",
    "    # Use the get_cube function from the getdata module to extract the data cube from the FITS file.\n",
    "    cube = getdata.get_cube(input)\n",
    "    # if isinstance(input, str):\n",
    "    #     cube = getdata.get_cube(input)\n",
    "    # else: \n",
    "    #     cube = input\n",
    "    \n",
    "    # Define the velocity channels.\n",
    "    channels = np.arange(start, stop, step) *u.km/u.s\n",
    "\n",
    "    # Get the number of channels.\n",
    "    n = len(channels)-1\n",
    "\n",
    "    # Initialize an array to hold the channel map data.\n",
    "    channelmaps_data = ['']*(n)\n",
    "\n",
    "    # For each channel...\n",
    "    for i in tqdm(range(n)): \n",
    "\n",
    "        # ...extract the cube for that channel...\n",
    "        cube_channels = cube.spectral_slab(channels[i], channels[i+1])\n",
    "\n",
    "        # ...and calculate the zeroth moment, storing the result in the array.\n",
    "        channelmaps_data[i] = cube_channels.moment0().hdu.data\n",
    "        channelmaps_data[i][channelmaps_data[i] == 0] = np.nan\n",
    "\n",
    "    # Get the FITS header from the last cube's zeroth moment.\n",
    "    channelmaps_header = cube_channels.moment0().hdu.header\n",
    "\n",
    "    # Create a FITS HDU using the channel map data and the header.\n",
    "    channelmaps_hdu = fits.PrimaryHDU(channelmaps_data, channelmaps_header)\n",
    "\n",
    "    # Define the output file name by removing '.fits' from the input file name.\n",
    "    outputfile = inputfile.replace('.fits', '')\n",
    " \n",
    "    # Write the HDU to a FITS file.\n",
    "    channelmaps_hdu.writeto('%s_chans.fits' %outputfile, overwrite=True)\n",
    "\n",
    "    return(channelmaps_hdu)"
   ]
  },
  {
   "cell_type": "code",
   "execution_count": 3,
   "id": "e90875a5",
   "metadata": {},
   "outputs": [],
   "source": [
    "def plot_channel_maps_indv(channelmaps_hdu, fileappend='', outputdir='../figures/', start=-200, stop=200, step=20, vmin=None, vmax=None, std=None, l=0.8065474, b=-0.1999737, width=0.2*0.9, height=0.2*0.9):\n",
    "    \"\"\"\n",
    "    This function plots all the channel maps contained in a FITS HDU in a grid with a specified number of columns.\n",
    "    It shows the velocity range in the upper right corner of each plot.\n",
    "\n",
    "    Args:\n",
    "    channelmaps_hdu (HDU): The FITS HDU containing the channel maps.\n",
    "    start (int): The start of the velocity range for channel extraction. Default is -200 km/s.\n",
    "    stop (int): The end of the velocity range for channel extraction. Default is 200 km/s.\n",
    "    step (int): The velocity step size for channel extraction. Default is 20 km/s.\n",
    "\n",
    "    Returns:\n",
    "    None\n",
    "    \"\"\"\n",
    "    # Determine the number of channels from the FITS HDU.\n",
    "    channels = channelmaps_hdu.header['NAXIS3']\n",
    "    \n",
    "    # For each channel...\n",
    "    for chan in range(channels):\n",
    "        \n",
    "        # if chan!=0:\n",
    "        #     continue\n",
    "\n",
    "        # ...create a copy of the FITS HDU...\n",
    "        channelmaps_hdu_ = channelmaps_hdu.copy()\n",
    "        \n",
    "        # ...replace the data in the HDU with the data for the current channel...\n",
    "        channelmaps_hdu_.data = channelmaps_hdu_.data[chan]\n",
    "        \n",
    "        # Initialize the plot figure.\n",
    "        # ...create a subplot in the appropriate position in the grid...\n",
    "        fig = plt.figure(figsize=(5,5))\n",
    "        gc = aplpy.FITSFigure(channelmaps_hdu_, subplot=(1, 1, 1), figure=fig)  # 4 columns\n",
    "        gc.recenter(l, b, width=width, height=height)\n",
    "        \n",
    "        # ...display the channel map in grayscale and with contours...\n",
    "        # gc.show_grayscale()\n",
    "        gc.show_colorscale(cmap='inferno', vmin=vmin, vmax=vmax)\n",
    "        # gc.show_contour(channelmaps_hdu_, levels=5)\n",
    "        \n",
    "        if std is not None: \n",
    "            gc.show_contour(channelmaps_hdu_, levels=[3*std], linewidths=0.9, colors='white', smooth=3)\n",
    "\n",
    "        # Remove ticks etc\n",
    "        gc.axis_labels.hide()\n",
    "        gc.tick_labels.hide()\n",
    "        gc.ticks.set_color('black')\n",
    "        gc.ticks.set_linewidth(2)\n",
    "        gc.set_nan_color('lightgrey')\n",
    "\n",
    "        # ...and display the velocity range in the upper right corner.\n",
    "        velo_range = f\"{start + chan*step} to {start + (chan+1)*step} km/s\"\n",
    "        gc.add_label(0.05, 0.95, velo_range, relative=True, color='black', bbox=dict(facecolor='white', boxstyle='round', alpha=0.75), ha='left')\n",
    "            \n",
    "        gc.show_ellipses(0.8119, -0.1868, 240/3600, 240/3600, edgecolor='white', linestyles='dotted', linewidths=2)\n",
    "    \n",
    "        # Adjust the subplot layout to reduce space between subplots\n",
    "        fig.tight_layout(h_pad=0, w_pad=-0.6)\n",
    "        plt.subplots_adjust(wspace=-0.06, hspace=0)\n",
    "        \n",
    "        # Save the figure. \n",
    "        fig.savefig(outputdir+fileappend+'_%i.png' %chan, bbox_inches='tight')\n",
    "    \n",
    "        plt.close('all')\n",
    "\n",
    "    return()"
   ]
  },
  {
   "cell_type": "markdown",
   "id": "9f39995e",
   "metadata": {},
   "source": [
    "For larger region, using cube from Adam.... "
   ]
  },
  {
   "cell_type": "code",
   "execution_count": 4,
   "id": "ca70335e",
   "metadata": {},
   "outputs": [
    {
     "name": "stdout",
     "output_type": "stream",
     "text": [
      "/Users/abarnes/Dropbox/work/Projects/MOPRA/CMZ/3mm/CMZ_3mm_HNCO.fits\n",
      "<astropy.io.fits.hdu.image.PrimaryHDU object at 0x7fba88b117c0>\n"
     ]
    },
    {
     "name": "stderr",
     "output_type": "stream",
     "text": [
      "WARNING: VerifyWarning: Invalid 'BLANK' keyword in header.  The 'BLANK' keyword is only applicable to integer data, and will be ignored in this HDU. [astropy.io.fits.hdu.image]\n"
     ]
    }
   ],
   "source": [
    "inputfile = '/Users/abarnes/Dropbox/work/Projects/MOPRA/CMZ/3mm/CMZ_3mm_HNCO.fits'\n",
    "print(inputfile)\n",
    "hdu = fits.open(inputfile)[0]\n",
    "print(hdu)"
   ]
  },
  {
   "cell_type": "code",
   "execution_count": 5,
   "id": "1c3a99e9",
   "metadata": {},
   "outputs": [
    {
     "name": "stderr",
     "output_type": "stream",
     "text": [
      "WARNING: AstropyDeprecationWarning: The DS9Parser class is deprecated and may be removed in a future version.\n",
      "        Use `regions.Regions.parse` instead. [spectral_cube.spectral_cube]\n"
     ]
    }
   ],
   "source": [
    "cube = getdata.get_cube(hdu)\n",
    "ds9_str = 'galactic; box(0.6994511,-0.0888193,1822.851\",1485.249\",0.13374212)'\n",
    "subcube = cube.subcube_from_ds9region(ds9_str) \n",
    "hdu = subcube.hdu"
   ]
  },
  {
   "cell_type": "code",
   "execution_count": 6,
   "id": "0c915975",
   "metadata": {},
   "outputs": [
    {
     "name": "stderr",
     "output_type": "stream",
     "text": [
      "100%|██████████| 84/84 [00:08<00:00,  9.53it/s]\n",
      "WARNING: VerifyWarning: Invalid 'BLANK' keyword in header.  The 'BLANK' keyword is only applicable to integer data, and will be ignored in this HDU. [astropy.io.fits.hdu.image]\n"
     ]
    }
   ],
   "source": [
    "channelmaps_hdu = get_channel_maps(hdu, \n",
    "                                   start=-40, \n",
    "                                   stop=130, \n",
    "                                   step=2)"
   ]
  },
  {
   "cell_type": "code",
   "execution_count": 7,
   "id": "f0f450cc",
   "metadata": {},
   "outputs": [
    {
     "name": "stdout",
     "output_type": "stream",
     "text": [
      "-0.9643024206161499 6.5068066763877885 0.18577231894232782\n"
     ]
    },
    {
     "data": {
      "text/plain": [
       "()"
      ]
     },
     "execution_count": 7,
     "metadata": {},
     "output_type": "execute_result"
    }
   ],
   "source": [
    "# ensuring plotting over same scale\n",
    "data = channelmaps_hdu.data.copy()\n",
    "vmin, vmax = np.nanpercentile(data, [0, 99.5])\n",
    "std = stats.mad_std(data, ignore_nan=True)\n",
    "std = stats.mad_std(data[data<3*std], ignore_nan=True)\n",
    "print(vmin, vmax, std)\n",
    "\n",
    "plot_channel_maps_indv(channelmaps_hdu, \n",
    "                  start = -40, \n",
    "                  stop = 130, \n",
    "                  step = 2, \n",
    "                  vmin = vmin, \n",
    "                  vmax = vmax, \n",
    "                  std = None,\n",
    "                  l=0.6994511, \n",
    "                  b=-0.0888193, \n",
    "                  width=0.5063474, \n",
    "                  height=0.4125693,\n",
    "                  fileappend = 'hnco_chans_large_mopra/hcno_chans')"
   ]
  },
  {
   "cell_type": "code",
   "execution_count": 8,
   "id": "a5bf64ce",
   "metadata": {},
   "outputs": [
    {
     "name": "stderr",
     "output_type": "stream",
     "text": [
      "/var/folders/3y/cmsgt3_x7x72bbs__zhy_q6h0008wr/T/ipykernel_81180/2821716098.py:6: DeprecationWarning: Starting with ImageIO v3 the behavior of this function will switch to that of iio.v3.imread. To keep the current behavior (and make this warning dissapear) use `import imageio.v2 as imageio` or call `imageio.v2.imread` directly.\n",
      "  images.append(imageio.imread(filename))\n"
     ]
    }
   ],
   "source": [
    "import imageio\n",
    "filenames = glob('../figures/hnco_chans_large_mopra/*.png')\n",
    "filenames_sorted = sorted(filenames, key=lambda x: int(x.split('_')[-1].split('.')[0]))\n",
    "images = []\n",
    "for filename in filenames_sorted:\n",
    "    images.append(imageio.imread(filename))\n",
    "imageio.mimsave('../figures/hnco_chans_large_mopra/hnco_chans_large_mopra_movie.gif', images)"
   ]
  }
 ],
 "metadata": {
  "kernelspec": {
   "display_name": "Python 3 (ipykernel)",
   "language": "python",
   "name": "python3"
  },
  "language_info": {
   "codemirror_mode": {
    "name": "ipython",
    "version": 3
   },
   "file_extension": ".py",
   "mimetype": "text/x-python",
   "name": "python",
   "nbconvert_exporter": "python",
   "pygments_lexer": "ipython3",
   "version": "3.9.13"
  }
 },
 "nbformat": 4,
 "nbformat_minor": 5
}
