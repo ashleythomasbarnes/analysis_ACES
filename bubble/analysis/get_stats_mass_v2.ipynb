{
 "cells": [
  {
   "cell_type": "code",
   "execution_count": 1,
   "id": "3bb90357-3450-4e87-94c4-4f0e19fbb836",
   "metadata": {},
   "outputs": [],
   "source": [
    "import numpy as np\n",
    "from astropy import units as u \n",
    "from astropy import constants as c\n",
    "import matplotlib.pyplot as plt\n",
    "\n",
    "plt.style.use('paper')"
   ]
  },
  {
   "cell_type": "code",
   "execution_count": 2,
   "id": "3e6d561d",
   "metadata": {},
   "outputs": [],
   "source": [
    "def get_volume_shell(r1, r2):\n",
    "    v1 = 4/3 * np.pi * r1**3\n",
    "    v2 = 4/3 * np.pi * r2**3\n",
    "    return(v2-v1)\n",
    "\n",
    "def get_volume_ellipsoid_shell(a1, b1, c1, a2, b2, c2):\n",
    "    v1 = 4/3 * np.pi * a1*b1*c1\n",
    "    v2 = 4/3 * np.pi * a2*b2*c2\n",
    "    return(v2-v1)\n",
    "\n",
    "def get_mass(v, n, mu=2.33):\n",
    "    N = n*v\n",
    "    m = N*c.m_p*mu\n",
    "    return(m.to('Msun')) \n",
    "\n",
    "def get_Ekin(mass, velo):\n",
    "    return((0.5*mass*velo**2).to('erg'))\n",
    "\n",
    "def get_pmom(mass, velo):\n",
    "    return((mass*velo).to('Msun*km/s'))"
   ]
  },
  {
   "cell_type": "code",
   "execution_count": 9,
   "id": "50565a19",
   "metadata": {},
   "outputs": [
    {
     "data": {
      "text/plain": [
       "(<Quantity 0.70710678>, <Quantity 0.70710678>)"
      ]
     },
     "execution_count": 9,
     "metadata": {},
     "output_type": "execute_result"
    }
   ],
   "source": [
    "np.cos(i.to('rad')), np.cos(i.to('rad'))"
   ]
  },
  {
   "cell_type": "code",
   "execution_count": 3,
   "id": "61a09ea9",
   "metadata": {},
   "outputs": [],
   "source": [
    "n = 10**(4.2) *u.cm**-3\n",
    " \n",
    "r1a = 79 *u.arcsec\n",
    "r2a = 154 *u.arcsec\n",
    "\n",
    "r1 = (8200/206265)*u.pc/u.arcsec * r1a \n",
    "r2 = (8200/206265)*u.pc/u.arcsec * r2a \n",
    "\n",
    "velo = 15.05*u.km/u.s\n",
    "i = 45*u.deg # inclincation\n",
    "f = 0.5 # filling factor\n",
    "\n",
    "r1i = r1 / np.cos(i.to('rad'))\n",
    "r2i = r2 / np.cos(i.to('rad'))\n",
    "veloi = velo / np.sin(i.to('rad'))\n",
    "\n",
    "t = (r2/velo).to('Myr')\n",
    "ti = (r2i/veloi).to('Myr')"
   ]
  },
  {
   "cell_type": "code",
   "execution_count": 7,
   "id": "dc6ddbab",
   "metadata": {},
   "outputs": [
    {
     "data": {
      "text/plain": [
       "(<Quantity 0.70710678>, <Quantity 0.5>)"
      ]
     },
     "execution_count": 7,
     "metadata": {},
     "output_type": "execute_result"
    }
   ],
   "source": [
    "# Volume calculations\n",
    "v = get_volume_shell(r1, r2)\n",
    "vi = get_volume_ellipsoid_shell(r1, r1, r1i, r2, r2, r2i)\n",
    "vi_ = get_volume_shell(r1i, r2i)\n",
    "v/vi, vi/vi_"
   ]
  },
  {
   "cell_type": "code",
   "execution_count": 8,
   "id": "29b45c10",
   "metadata": {},
   "outputs": [
    {
     "name": "stdout",
     "output_type": "stream",
     "text": [
      "Radius:          \t 3.1 6.1 pc\n",
      "Radius (i):      \t 4.4 8.7 pc\n",
      "Velo:            \t 15.1 km/s\n",
      "Velo (i):        \t 21.3 km/s\n",
      "texp:            \t 0.4 Myr\n",
      "texp (i):        \t 0.4 Myr\n",
      "Mass:            \t 7.6e+05 Msun\n",
      "Mass (i):        \t 1.1e+06 Msun\n",
      "Mass (f):        \t 3.8e+05 Msun\n",
      "Mass (if):       \t 5.4e+05 Msun\n",
      "Energy:          \t 1.7e+51 erg\n",
      "Energy (i):      \t 4.8e+51 erg\n",
      "Energy (f):      \t 8.5e+50 erg\n",
      "Energy (if):     \t 2.4e+51 erg\n",
      "Momentum:        \t 1.1e+07 solMass km/s\n",
      "Momentum (i):    \t 2.3e+07 solMass km/s\n",
      "Momentum (f):    \t 5.7e+06 solMass km/s\n",
      "Momentum (if):   \t 1.1e+07 solMass km/s\n"
     ]
    }
   ],
   "source": [
    "# Mass calculations\n",
    "mass  = get_mass(v, n)\n",
    "massf = get_mass(v, n) * f\n",
    "\n",
    "massi  = get_mass(vi, n)\n",
    "massif = get_mass(vi, n) * f\n",
    "\n",
    "# Kinetic energy calculations\n",
    "Ekin = get_Ekin(mass, velo)\n",
    "Ekinf = get_Ekin(massf, velo)\n",
    "\n",
    "Ekini = get_Ekin(massi, veloi)\n",
    "Ekinif = get_Ekin(massif, veloi)\n",
    "\n",
    "# Momentum calculations\n",
    "pmom = get_pmom(mass, velo)\n",
    "pmomf = get_pmom(massf, velo)\n",
    "\n",
    "pmomi = get_pmom(massi, veloi)\n",
    "pmomif = get_pmom(massif, veloi)\n",
    "\n",
    "# Printing results with consistent tab spacing\n",
    "print('Radius:          \\t %0.1f %0.1f pc' %(r1.value, r2.value))\n",
    "print('Radius (i):      \\t %0.1f %0.1f pc' %(r1i.value, r2i.value))\n",
    "print('Velo:            \\t %0.1f km/s' %(velo.value))\n",
    "print('Velo (i):        \\t %0.1f km/s' %(veloi.value))\n",
    "print('texp:            \\t %0.1f Myr' %(t.value))\n",
    "print('texp (i):        \\t %0.1f Myr' %(ti.value))\n",
    "\n",
    "print('Mass:            \\t %0.1e Msun' %(mass.value))\n",
    "print('Mass (i):        \\t %0.1e Msun' %(massi.value))\n",
    "print('Mass (f):        \\t %0.1e Msun' %(massf.value))\n",
    "print('Mass (if):       \\t %0.1e Msun' %(massif.value))\n",
    "\n",
    "print('Energy:          \\t %0.1e erg' %(Ekin.value))\n",
    "print('Energy (i):      \\t %0.1e erg' %(Ekini.value))\n",
    "print('Energy (f):      \\t %0.1e erg' %(Ekinf.value))\n",
    "print('Energy (if):     \\t %0.1e erg' %(Ekinif.value))\n",
    "\n",
    "print('Momentum:        \\t %0.1e solMass km/s' %(pmom.value))\n",
    "print('Momentum (i):    \\t %0.1e solMass km/s' %(pmomi.value))\n",
    "print('Momentum (f):    \\t %0.1e solMass km/s' %(pmomf.value))\n",
    "print('Momentum (if):   \\t %0.1e solMass km/s' %(pmomif.value))"
   ]
  },
  {
   "cell_type": "code",
   "execution_count": 6,
   "id": "270b4412",
   "metadata": {},
   "outputs": [
    {
     "name": "stdout",
     "output_type": "stream",
     "text": [
      "energy: \t 4.8e+50 erg\n"
     ]
    }
   ],
   "source": [
    "# Young stellar output \n",
    "lum = 10**4*u.Lsun\n",
    "energy = (t*lum).to('erg')\n",
    "\n",
    "print('energy: \\t %0.1e erg' %(energy.value))"
   ]
  },
  {
   "cell_type": "code",
   "execution_count": null,
   "id": "4b5767b8",
   "metadata": {},
   "outputs": [],
   "source": []
  }
 ],
 "metadata": {
  "kernelspec": {
   "display_name": "Python 3 (ipykernel)",
   "language": "python",
   "name": "python3"
  },
  "language_info": {
   "codemirror_mode": {
    "name": "ipython",
    "version": 3
   },
   "file_extension": ".py",
   "mimetype": "text/x-python",
   "name": "python",
   "nbconvert_exporter": "python",
   "pygments_lexer": "ipython3",
   "version": "3.9.13"
  }
 },
 "nbformat": 4,
 "nbformat_minor": 5
}
