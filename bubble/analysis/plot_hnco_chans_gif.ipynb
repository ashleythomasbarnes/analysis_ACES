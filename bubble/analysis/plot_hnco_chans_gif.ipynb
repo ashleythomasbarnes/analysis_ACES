{
 "cells": [
  {
   "cell_type": "code",
   "execution_count": 5,
   "id": "18f6ba79-5ee8-487d-a283-f7cc8e3c634f",
   "metadata": {},
   "outputs": [],
   "source": [
    "import numpy as np\n",
    "from astropy import units as u \n",
    "from astropy.io import fits\n",
    "import matplotlib.pyplot as plt\n",
    "import aplpy\n",
    "from math import ceil\n",
    "from astropy import stats \n",
    "from glob import glob\n",
    "import matplotlib as mpl\n",
    "from tqdm import tqdm\n",
    "import colorcet\n",
    "\n",
    "import sys\n",
    "sys.path.append('/Users/abarnes/GitHub/misc/')\n",
    "from data_cube_analysis import getdata\n",
    "\n",
    "plt.style.use('paper.mplstyle')"
   ]
  },
  {
   "cell_type": "code",
   "execution_count": 6,
   "id": "71f44bbc",
   "metadata": {},
   "outputs": [
    {
     "name": "stdout",
     "output_type": "stream",
     "text": [
      "/Users/abarnes/Dropbox/work/Smallprojects/aces/data/alma/12m7mtp_bubble/hnco43.TP_7M_12M_weighted_mosaic.rebin.K.kms.0.5kmschannel.galactic.fits\n",
      "<astropy.io.fits.hdu.image.PrimaryHDU object at 0x7ff0995c64f0>\n"
     ]
    }
   ],
   "source": [
    "inputfile = '/Users/abarnes/Dropbox/work/Smallprojects/aces/data/alma/12m7mtp_bubble/hnco43.TP_7M_12M_weighted_mosaic.rebin.K.kms.0.5kmschannel.galactic.fits'\n",
    "print(inputfile)\n",
    "hdu = fits.open(inputfile)[0]\n",
    "print(hdu)"
   ]
  },
  {
   "cell_type": "code",
   "execution_count": 7,
   "id": "654f82f7-11af-4bf3-ae3d-ae226e706fbc",
   "metadata": {},
   "outputs": [],
   "source": [
    "def get_channel_maps(input, start=-200, stop=200, step=20):\n",
    "    \"\"\"\n",
    "    This function calculates the zeroth moment (total intensity) for each velocity channel in a data cube,\n",
    "    and writes the results to a FITS file.\n",
    "\n",
    "    Args:\n",
    "    input (str, cube): Filename or cube object... \n",
    "    start (int): The start of the velocity range for channel extraction. Default is -200 km/s.\n",
    "    stop (int): The end of the velocity range for channel extraction. Default is 200 km/s.\n",
    "    step (int): The velocity step size for channel extraction. Default is 20 km/s.\n",
    "\n",
    "    Returns:\n",
    "    None\n",
    "    \"\"\"\n",
    "\n",
    "    # Use the get_cube function from the getdata module to extract the data cube from the FITS file.\n",
    "    cube = getdata.get_cube(input)\n",
    "    # if isinstance(input, str):\n",
    "    #     cube = getdata.get_cube(input)\n",
    "    # else: \n",
    "    #     cube = input\n",
    "    \n",
    "    # Define the velocity channels.\n",
    "    channels = np.arange(start, stop, step) *u.km/u.s\n",
    "\n",
    "    # Get the number of channels.\n",
    "    n = len(channels)-1\n",
    "\n",
    "    # Initialize an array to hold the channel map data.\n",
    "    channelmaps_data = ['']*(n)\n",
    "\n",
    "    # For each channel...\n",
    "    for i in tqdm(range(n)): \n",
    "\n",
    "        # ...extract the cube for that channel...\n",
    "        cube_channels = cube.spectral_slab(channels[i], channels[i+1])\n",
    "\n",
    "        # ...and calculate the zeroth moment, storing the result in the array.\n",
    "        channelmaps_data[i] = cube_channels.moment0().hdu.data\n",
    "        channelmaps_data[i][channelmaps_data[i] == 0] = np.nan\n",
    "\n",
    "    # Get the FITS header from the last cube's zeroth moment.\n",
    "    channelmaps_header = cube_channels.moment0().hdu.header\n",
    "\n",
    "    # Create a FITS HDU using the channel map data and the header.\n",
    "    channelmaps_hdu = fits.PrimaryHDU(channelmaps_data, channelmaps_header)\n",
    "\n",
    "    # Define the output file name by removing '.fits' from the input file name.\n",
    "    outputfile = inputfile.replace('.fits', '')\n",
    " \n",
    "    # Write the HDU to a FITS file.\n",
    "    channelmaps_hdu.writeto('%s_chans.fits' %outputfile, overwrite=True)\n",
    "\n",
    "    return(channelmaps_hdu)"
   ]
  },
  {
   "cell_type": "code",
   "execution_count": 8,
   "id": "82083fca-06e0-484d-905c-19156abaad60",
   "metadata": {
    "jupyter": {
     "source_hidden": true
    },
    "tags": []
   },
   "outputs": [],
   "source": [
    "def plot_channel_maps(channelmaps_hdu, outputfile=None, start=-200, stop=200, step=20, contour_levels=None, vmin=None, vmax=None, cmap='inferno'):\n",
    "    \"\"\"\n",
    "    This function plots all the channel maps contained in a FITS HDU in a grid with a specified number of columns.\n",
    "    It shows the velocity range in the upper right corner of each plot.\n",
    "\n",
    "    Args:\n",
    "    channelmaps_hdu (HDU): The FITS HDU containing the channel maps.\n",
    "    start (int): The start of the velocity range for channel extraction. Default is -200 km/s.\n",
    "    stop (int): The end of the velocity range for channel extraction. Default is 200 km/s.\n",
    "    step (int): The velocity step size for channel extraction. Default is 20 km/s.\n",
    "\n",
    "    Returns:\n",
    "    None\n",
    "    \"\"\"\n",
    "    # Determine the number of channels from the FITS HDU.\n",
    "    channels = channelmaps_hdu.header['NAXIS3']\n",
    "\n",
    "    # Determine the number of rows needed for the plot grid.\n",
    "    rows = ceil(channels / 5)  # 4 is the number of columns.\n",
    "\n",
    "    # Initialize the plot figure.\n",
    "    fig = plt.figure(figsize=(16,16*(rows/5)))\n",
    "    \n",
    "    # aligning with mopra images\n",
    "    l = 0.8065474\n",
    "    b = -0.1999737\n",
    "    width = 0.2*0.9\n",
    "    height = 0.2*0.9\n",
    "    \n",
    "    # for contours\n",
    "    col_density = '../data/multiwavelength/regrid_crop/gaussfit_iter_beta175_column_gc_itervar_conv25.fits'\n",
    "    \n",
    "    # For each channel...\n",
    "    for chan in tqdm(range(channels)):\n",
    "\n",
    "        # if chan != 0: \n",
    "        #     continue\n",
    "        \n",
    "        # ...create a copy of the FITS HDU...\n",
    "        channelmaps_hdu_ = channelmaps_hdu.copy()\n",
    "        \n",
    "        # ...replace the data in the HDU with the data for the current channel...\n",
    "        channelmaps_hdu_.data = channelmaps_hdu_.data[chan]\n",
    "        \n",
    "        # ...create a subplot in the appropriate position in the grid...\n",
    "        gc = aplpy.FITSFigure(channelmaps_hdu_, subplot=(rows, 5, chan+1), figure=fig)  # 4 columns\n",
    "        gc.recenter(l, b, width=width, height=height)\n",
    "        \n",
    "        # ...display the channel map in grayscale and with contours...\n",
    "        # gc.show_grayscale()\n",
    "        gc.show_colorscale(cmap=cmap, vmin=vmin, vmax=vmax)\n",
    "        # gc.show_contour(channelmaps_hdu_, levels=5)\n",
    "        \n",
    "        # Remove ticks etc\n",
    "        gc.axis_labels.hide()\n",
    "        gc.tick_labels.hide()\n",
    "        gc.ticks.set_color('black')\n",
    "        gc.ticks.set_linewidth(2)\n",
    "        gc.set_nan_color('lightgrey')\n",
    "\n",
    "        if chan == 0: \n",
    "            line = outputfile.split('_')[0].split('/')[-1].upper()\n",
    "            if line == 'sio':\n",
    "                gc.add_label(0.05, 0.05, 'SiO', relative=True, color='black', \n",
    "                            bbox=dict(facecolor='white', boxstyle='round', alpha=1), size=20, ha='left', va='bottom')\n",
    "            if line == 'hc3n':\n",
    "                gc.add_label(0.05, 0.05, 'HC$_3$N', relative=True, color='black', \n",
    "                            bbox=dict(facecolor='white', boxstyle='round', alpha=1), size=20, ha='left', va='bottom')            \n",
    "            else: \n",
    "                gc.add_label(0.05, 0.05, outputfile.split('_')[0].split('/')[-1].upper(), relative=True, color='black', \n",
    "                            bbox=dict(facecolor='white', boxstyle='round', alpha=1), size=20, ha='left', va='bottom')\n",
    "\n",
    "        # ...and display the velocity range in the upper right corner.\n",
    "        velo_range = f\"{start + chan*step} to {start + (chan+1)*step} km/s\"\n",
    "        gc.add_label(0.03, 0.97, velo_range, relative=True, color='black', bbox=dict(facecolor='white', boxstyle='round', alpha=0.75), ha='left', va='top', size=13)\n",
    "        \n",
    "        # adding hershel column density contours\n",
    "        if contour_levels!=None:\n",
    "            gc.show_contour(col_density, levels=contour_levels, linewidths=0.9, colors='white')\n",
    "            \n",
    "        # gc.show_ellipses(0.8119, -0.1868, 240/3600, 240/3600, edgecolor='white', linestyles='dotted', linewidths=2)\n",
    "        xcentre = 0.8041918903\n",
    "        ycentre = -0.1838483592\n",
    "        r_inner = 79/3600\n",
    "        r_outer = 154/3600\n",
    "        gc.show_ellipses(xcentre, ycentre, r_inner*2, r_inner*2, edgecolor='white', linestyles='dotted', linewidths=2, zorder=10., alpha=0.9)\n",
    "        gc.show_ellipses(xcentre, ycentre, r_outer*2, r_outer*2, edgecolor='white', linestyles='dotted', linewidths=2, zorder=10., alpha=0.9)\n",
    "\n",
    "        ax_plot = fig.get_axes()[-1]\n",
    "        ax_plot.grid(True, alpha=0.3, ls=':', color='white')\n",
    "            \n",
    "    # Adjust the subplot layout to reduce space between subplots\n",
    "    fig.tight_layout(h_pad=0, w_pad=-0.6)\n",
    "    plt.subplots_adjust(wspace=-0.06, hspace=0)\n",
    "\n",
    "    # Adding the colorbar\n",
    "    axes_list = fig.get_axes()\n",
    "    cbaxes_ = axes_list[0].scatter([0,0],[0,0],cmap=cmap,c=[vmin, vmax],s=0)\n",
    "    cbaxes = fig.add_axes([0.99, 0.05, 0.012, 0.9])  \n",
    "    norm = mpl.colors.Normalize(vmin=vmin, vmax=vmax)\n",
    "    cb = plt.colorbar(cbaxes_, cax=cbaxes, norm=norm, extend='both')\n",
    "    cb.ax.tick_params(labelsize=14) \n",
    "    cb.set_label(label='Integrated Intensity [K km/s]',weight='bold',fontsize=13)\n",
    "\n",
    "    ax_cbar = fig.get_axes()[-1]\n",
    "    ax_cbar.yaxis.set_ticks_position('both')\n",
    "    ax_cbar.set_rasterized(True)\n",
    "    \n",
    "    # Save the figure. \n",
    "    if outputfile != None: \n",
    "        fig.savefig(outputfile, bbox_inches='tight')\n",
    "        fig.savefig(outputfile.replace('pdf', 'png'), bbox_inches='tight')\n",
    "    \n",
    "    return()"
   ]
  },
  {
   "cell_type": "code",
   "execution_count": 13,
   "id": "e90875a5",
   "metadata": {},
   "outputs": [],
   "source": [
    "def plot_channel_maps_indv(channelmaps_hdu, fileappend='', outputdir='../figures/', start=-200, stop=200, step=20, vmin=None, vmax=None, std=None, l=0.8065474, b=-0.1999737, width=0.2*0.9, height=0.2*0.9):\n",
    "    \"\"\"\n",
    "    This function plots all the channel maps contained in a FITS HDU in a grid with a specified number of columns.\n",
    "    It shows the velocity range in the upper right corner of each plot.\n",
    "\n",
    "    Args:\n",
    "    channelmaps_hdu (HDU): The FITS HDU containing the channel maps.\n",
    "    start (int): The start of the velocity range for channel extraction. Default is -200 km/s.\n",
    "    stop (int): The end of the velocity range for channel extraction. Default is 200 km/s.\n",
    "    step (int): The velocity step size for channel extraction. Default is 20 km/s.\n",
    "\n",
    "    Returns:\n",
    "    None\n",
    "    \"\"\"\n",
    "    # Determine the number of channels from the FITS HDU.\n",
    "    channels = channelmaps_hdu.header['NAXIS3']\n",
    "    \n",
    "    # For each channel...\n",
    "    for chan in range(channels):\n",
    "        \n",
    "        # if chan!=0:\n",
    "        #     continue\n",
    "\n",
    "        # ...create a copy of the FITS HDU...\n",
    "        channelmaps_hdu_ = channelmaps_hdu.copy()\n",
    "        \n",
    "        # ...replace the data in the HDU with the data for the current channel...\n",
    "        channelmaps_hdu_.data = channelmaps_hdu_.data[chan]\n",
    "        \n",
    "        # Initialize the plot figure.\n",
    "        # ...create a subplot in the appropriate position in the grid...\n",
    "        fig = plt.figure(figsize=(5,5))\n",
    "\n",
    "        gc = aplpy.FITSFigure(channelmaps_hdu_, subplot=(1, 1, 1), figure=fig)  # 4 columns\n",
    "        gc.recenter(l, b, width=width, height=height)\n",
    "    \n",
    "        # ...display the channel map in grayscale and with contours...\n",
    "        # gc.show_grayscale()\n",
    "        gc.show_colorscale(cmap='inferno', vmin=vmin, vmax=vmax)\n",
    "        # gc.show_contour(channelmaps_hdu_, levels=5)\n",
    "        \n",
    "        if std is not None: \n",
    "            gc.show_contour(channelmaps_hdu_, levels=[3*std], linewidths=0.9, colors='white', smooth=3)\n",
    "\n",
    "        # Remove ticks etc\n",
    "        gc.axis_labels.hide()\n",
    "        gc.tick_labels.hide()\n",
    "        gc.ticks.set_color('black')\n",
    "        gc.ticks.set_linewidth(2)\n",
    "        gc.set_nan_color('none')\n",
    "\n",
    "        # ...and display the velocity range in the upper right corner.\n",
    "        step1 = start + chan*step\n",
    "        step2 = start + (chan+1)*step\n",
    "        velo_range = \"%0.1f to %0.1f km/s\" %(step1, step2)\n",
    "        gc.add_label(0.05, 0.95, velo_range, relative=True, color='black', bbox=dict(facecolor='white', boxstyle='round', alpha=0.75), ha='left')\n",
    "            \n",
    "        gc.show_ellipses(0.8119, -0.1868, 240/3600, 240/3600, edgecolor='white', linestyles='dotted', linewidths=2)\n",
    "\n",
    "        # Adjust the subplot layout to reduce space between subplots\n",
    "        fig.tight_layout(h_pad=0, w_pad=-0.6)\n",
    "        plt.subplots_adjust(wspace=-0.06, hspace=0)\n",
    "        \n",
    "        # Save the figure. \n",
    "        fig.savefig(outputdir+fileappend+'_%i.png' %chan, bbox_inches='tight')\n",
    "    \n",
    "        plt.close('all')\n",
    "\n",
    "    return()"
   ]
  },
  {
   "cell_type": "code",
   "execution_count": 9,
   "id": "682c7177-b62a-49a8-8ed1-b37de48466ea",
   "metadata": {},
   "outputs": [
    {
     "name": "stderr",
     "output_type": "stream",
     "text": [
      " 55%|█████▍    | 185/339 [02:08<01:47,  1.44it/s]\n"
     ]
    },
    {
     "ename": "KeyboardInterrupt",
     "evalue": "",
     "output_type": "error",
     "traceback": [
      "\u001b[0;31m---------------------------------------------------------------------------\u001b[0m",
      "\u001b[0;31mKeyboardInterrupt\u001b[0m                         Traceback (most recent call last)",
      "\u001b[0;32m/var/folders/3y/cmsgt3_x7x72bbs__zhy_q6h0008wr/T/ipykernel_21310/774330015.py\u001b[0m in \u001b[0;36m<module>\u001b[0;34m\u001b[0m\n\u001b[0;32m----> 1\u001b[0;31m channelmaps_hdu = get_channel_maps(inputfile, \n\u001b[0m\u001b[1;32m      2\u001b[0m                                    \u001b[0mstart\u001b[0m\u001b[0;34m=\u001b[0m\u001b[0;34m-\u001b[0m\u001b[0;36m40\u001b[0m\u001b[0;34m,\u001b[0m\u001b[0;34m\u001b[0m\u001b[0;34m\u001b[0m\u001b[0m\n\u001b[1;32m      3\u001b[0m                                    \u001b[0mstop\u001b[0m\u001b[0;34m=\u001b[0m\u001b[0;36m130\u001b[0m\u001b[0;34m,\u001b[0m\u001b[0;34m\u001b[0m\u001b[0;34m\u001b[0m\u001b[0m\n\u001b[1;32m      4\u001b[0m                                    step=0.5)\n",
      "\u001b[0;32m/var/folders/3y/cmsgt3_x7x72bbs__zhy_q6h0008wr/T/ipykernel_21310/3695039702.py\u001b[0m in \u001b[0;36mget_channel_maps\u001b[0;34m(input, start, stop, step)\u001b[0m\n\u001b[1;32m     37\u001b[0m \u001b[0;34m\u001b[0m\u001b[0m\n\u001b[1;32m     38\u001b[0m         \u001b[0;31m# ...and calculate the zeroth moment, storing the result in the array.\u001b[0m\u001b[0;34m\u001b[0m\u001b[0;34m\u001b[0m\u001b[0m\n\u001b[0;32m---> 39\u001b[0;31m         \u001b[0mchannelmaps_data\u001b[0m\u001b[0;34m[\u001b[0m\u001b[0mi\u001b[0m\u001b[0;34m]\u001b[0m \u001b[0;34m=\u001b[0m \u001b[0mcube_channels\u001b[0m\u001b[0;34m.\u001b[0m\u001b[0mmoment0\u001b[0m\u001b[0;34m(\u001b[0m\u001b[0;34m)\u001b[0m\u001b[0;34m.\u001b[0m\u001b[0mhdu\u001b[0m\u001b[0;34m.\u001b[0m\u001b[0mdata\u001b[0m\u001b[0;34m\u001b[0m\u001b[0;34m\u001b[0m\u001b[0m\n\u001b[0m\u001b[1;32m     40\u001b[0m         \u001b[0mchannelmaps_data\u001b[0m\u001b[0;34m[\u001b[0m\u001b[0mi\u001b[0m\u001b[0;34m]\u001b[0m\u001b[0;34m[\u001b[0m\u001b[0mchannelmaps_data\u001b[0m\u001b[0;34m[\u001b[0m\u001b[0mi\u001b[0m\u001b[0;34m]\u001b[0m \u001b[0;34m==\u001b[0m \u001b[0;36m0\u001b[0m\u001b[0;34m]\u001b[0m \u001b[0;34m=\u001b[0m \u001b[0mnp\u001b[0m\u001b[0;34m.\u001b[0m\u001b[0mnan\u001b[0m\u001b[0;34m\u001b[0m\u001b[0;34m\u001b[0m\u001b[0m\n\u001b[1;32m     41\u001b[0m \u001b[0;34m\u001b[0m\u001b[0m\n",
      "\u001b[0;32m~/opt/anaconda3/lib/python3.9/site-packages/spectral_cube/spectral_cube.py\u001b[0m in \u001b[0;36mmoment0\u001b[0;34m(self, axis, how)\u001b[0m\n\u001b[1;32m   1700\u001b[0m         \u001b[0mSee\u001b[0m \u001b[0;34m:\u001b[0m\u001b[0mmeth\u001b[0m\u001b[0;34m:\u001b[0m\u001b[0;31m`\u001b[0m\u001b[0mmoment\u001b[0m\u001b[0;31m`\u001b[0m\u001b[0;34m.\u001b[0m\u001b[0;34m\u001b[0m\u001b[0;34m\u001b[0m\u001b[0m\n\u001b[1;32m   1701\u001b[0m         \"\"\"\n\u001b[0;32m-> 1702\u001b[0;31m         \u001b[0;32mreturn\u001b[0m \u001b[0mself\u001b[0m\u001b[0;34m.\u001b[0m\u001b[0mmoment\u001b[0m\u001b[0;34m(\u001b[0m\u001b[0maxis\u001b[0m\u001b[0;34m=\u001b[0m\u001b[0maxis\u001b[0m\u001b[0;34m,\u001b[0m \u001b[0morder\u001b[0m\u001b[0;34m=\u001b[0m\u001b[0;36m0\u001b[0m\u001b[0;34m,\u001b[0m \u001b[0mhow\u001b[0m\u001b[0;34m=\u001b[0m\u001b[0mhow\u001b[0m\u001b[0;34m)\u001b[0m\u001b[0;34m\u001b[0m\u001b[0;34m\u001b[0m\u001b[0m\n\u001b[0m\u001b[1;32m   1703\u001b[0m \u001b[0;34m\u001b[0m\u001b[0m\n\u001b[1;32m   1704\u001b[0m     \u001b[0;32mdef\u001b[0m \u001b[0mmoment1\u001b[0m\u001b[0;34m(\u001b[0m\u001b[0mself\u001b[0m\u001b[0;34m,\u001b[0m \u001b[0maxis\u001b[0m\u001b[0;34m=\u001b[0m\u001b[0;36m0\u001b[0m\u001b[0;34m,\u001b[0m \u001b[0mhow\u001b[0m\u001b[0;34m=\u001b[0m\u001b[0;34m'auto'\u001b[0m\u001b[0;34m)\u001b[0m\u001b[0;34m:\u001b[0m\u001b[0;34m\u001b[0m\u001b[0;34m\u001b[0m\u001b[0m\n",
      "\u001b[0;32m~/opt/anaconda3/lib/python3.9/site-packages/spectral_cube/spectral_cube.py\u001b[0m in \u001b[0;36mmoment\u001b[0;34m(self, order, axis, how)\u001b[0m\n\u001b[1;32m   1663\u001b[0m                               sorted(list(dispatch.keys())))\n\u001b[1;32m   1664\u001b[0m \u001b[0;34m\u001b[0m\u001b[0m\n\u001b[0;32m-> 1665\u001b[0;31m         \u001b[0mout\u001b[0m \u001b[0;34m=\u001b[0m \u001b[0mdispatch\u001b[0m\u001b[0;34m[\u001b[0m\u001b[0mhow\u001b[0m\u001b[0;34m]\u001b[0m\u001b[0;34m(\u001b[0m\u001b[0mself\u001b[0m\u001b[0;34m,\u001b[0m \u001b[0morder\u001b[0m\u001b[0;34m,\u001b[0m \u001b[0maxis\u001b[0m\u001b[0;34m)\u001b[0m\u001b[0;34m\u001b[0m\u001b[0;34m\u001b[0m\u001b[0m\n\u001b[0m\u001b[1;32m   1666\u001b[0m \u001b[0;34m\u001b[0m\u001b[0m\n\u001b[1;32m   1667\u001b[0m         \u001b[0;31m# apply units\u001b[0m\u001b[0;34m\u001b[0m\u001b[0;34m\u001b[0m\u001b[0m\n",
      "\u001b[0;32m~/opt/anaconda3/lib/python3.9/site-packages/spectral_cube/_moments.py\u001b[0m in \u001b[0;36mmoment_auto\u001b[0;34m(cube, order, axis)\u001b[0m\n\u001b[1;32m    186\u001b[0m     strategy = dict(cube=moment_cubewise, ray=moment_raywise,\n\u001b[1;32m    187\u001b[0m                     slice=moment_slicewise)\n\u001b[0;32m--> 188\u001b[0;31m     \u001b[0;32mreturn\u001b[0m \u001b[0mstrategy\u001b[0m\u001b[0;34m[\u001b[0m\u001b[0miterator_strategy\u001b[0m\u001b[0;34m(\u001b[0m\u001b[0mcube\u001b[0m\u001b[0;34m,\u001b[0m \u001b[0maxis\u001b[0m\u001b[0;34m)\u001b[0m\u001b[0;34m]\u001b[0m\u001b[0;34m(\u001b[0m\u001b[0mcube\u001b[0m\u001b[0;34m,\u001b[0m \u001b[0morder\u001b[0m\u001b[0;34m,\u001b[0m \u001b[0maxis\u001b[0m\u001b[0;34m)\u001b[0m\u001b[0;34m\u001b[0m\u001b[0;34m\u001b[0m\u001b[0m\n\u001b[0m",
      "\u001b[0;32m~/opt/anaconda3/lib/python3.9/site-packages/spectral_cube/_moments.py\u001b[0m in \u001b[0;36mmoment_cubewise\u001b[0;34m(cube, order, axis)\u001b[0m\n\u001b[1;32m    159\u001b[0m     \"\"\"\n\u001b[1;32m    160\u001b[0m \u001b[0;34m\u001b[0m\u001b[0m\n\u001b[0;32m--> 161\u001b[0;31m     \u001b[0mpix_cen\u001b[0m \u001b[0;34m=\u001b[0m \u001b[0mcube\u001b[0m\u001b[0;34m.\u001b[0m\u001b[0m_pix_cen\u001b[0m\u001b[0;34m(\u001b[0m\u001b[0;34m)\u001b[0m\u001b[0;34m[\u001b[0m\u001b[0maxis\u001b[0m\u001b[0;34m]\u001b[0m\u001b[0;34m\u001b[0m\u001b[0;34m\u001b[0m\u001b[0m\n\u001b[0m\u001b[1;32m    162\u001b[0m     \u001b[0mdata\u001b[0m \u001b[0;34m=\u001b[0m \u001b[0mcube\u001b[0m\u001b[0;34m.\u001b[0m\u001b[0m_get_filled_data\u001b[0m\u001b[0;34m(\u001b[0m\u001b[0;34m)\u001b[0m \u001b[0;34m*\u001b[0m \u001b[0mcube\u001b[0m\u001b[0;34m.\u001b[0m\u001b[0m_pix_size_slice\u001b[0m\u001b[0;34m(\u001b[0m\u001b[0maxis\u001b[0m\u001b[0;34m)\u001b[0m\u001b[0;34m\u001b[0m\u001b[0;34m\u001b[0m\u001b[0m\n\u001b[1;32m    163\u001b[0m \u001b[0;34m\u001b[0m\u001b[0m\n",
      "\u001b[0;32m~/opt/anaconda3/lib/python3.9/site-packages/spectral_cube/utils.py\u001b[0m in \u001b[0;36mwrapper\u001b[0;34m(self, *args)\u001b[0m\n\u001b[1;32m     16\u001b[0m         \u001b[0;31m# The cache lives in the instance so that it gets garbage collected\u001b[0m\u001b[0;34m\u001b[0m\u001b[0;34m\u001b[0m\u001b[0m\n\u001b[1;32m     17\u001b[0m         \u001b[0;32mif\u001b[0m \u001b[0;34m(\u001b[0m\u001b[0mfunc\u001b[0m\u001b[0;34m,\u001b[0m \u001b[0margs\u001b[0m\u001b[0;34m)\u001b[0m \u001b[0;32mnot\u001b[0m \u001b[0;32min\u001b[0m \u001b[0mself\u001b[0m\u001b[0;34m.\u001b[0m\u001b[0m_cache\u001b[0m\u001b[0;34m:\u001b[0m\u001b[0;34m\u001b[0m\u001b[0;34m\u001b[0m\u001b[0m\n\u001b[0;32m---> 18\u001b[0;31m             \u001b[0mself\u001b[0m\u001b[0;34m.\u001b[0m\u001b[0m_cache\u001b[0m\u001b[0;34m[\u001b[0m\u001b[0;34m(\u001b[0m\u001b[0mfunc\u001b[0m\u001b[0;34m,\u001b[0m \u001b[0margs\u001b[0m\u001b[0;34m)\u001b[0m\u001b[0;34m]\u001b[0m \u001b[0;34m=\u001b[0m \u001b[0mfunc\u001b[0m\u001b[0;34m(\u001b[0m\u001b[0mself\u001b[0m\u001b[0;34m,\u001b[0m \u001b[0;34m*\u001b[0m\u001b[0margs\u001b[0m\u001b[0;34m)\u001b[0m\u001b[0;34m\u001b[0m\u001b[0;34m\u001b[0m\u001b[0m\n\u001b[0m\u001b[1;32m     19\u001b[0m         \u001b[0;32mreturn\u001b[0m \u001b[0mself\u001b[0m\u001b[0;34m.\u001b[0m\u001b[0m_cache\u001b[0m\u001b[0;34m[\u001b[0m\u001b[0;34m(\u001b[0m\u001b[0mfunc\u001b[0m\u001b[0;34m,\u001b[0m \u001b[0margs\u001b[0m\u001b[0;34m)\u001b[0m\u001b[0;34m]\u001b[0m\u001b[0;34m\u001b[0m\u001b[0;34m\u001b[0m\u001b[0m\n\u001b[1;32m     20\u001b[0m \u001b[0;34m\u001b[0m\u001b[0m\n",
      "\u001b[0;32m~/opt/anaconda3/lib/python3.9/site-packages/spectral_cube/spectral_cube.py\u001b[0m in \u001b[0;36m_pix_cen\u001b[0;34m(self)\u001b[0m\n\u001b[1;32m   1457\u001b[0m         dx = angular_separation(lon[:, :-1], lat[:, :-1],\n\u001b[1;32m   1458\u001b[0m                                 lon[:, 1:], lat[:, :-1])\n\u001b[0;32m-> 1459\u001b[0;31m         dy = angular_separation(lon[:-1, :], lat[:-1, :],\n\u001b[0m\u001b[1;32m   1460\u001b[0m                                 lon[1:, :], lat[1:, :])\n\u001b[1;32m   1461\u001b[0m \u001b[0;34m\u001b[0m\u001b[0m\n",
      "\u001b[0;32m~/opt/anaconda3/lib/python3.9/site-packages/astropy/coordinates/angle_utilities.py\u001b[0m in \u001b[0;36mangular_separation\u001b[0;34m(lon1, lat1, lon2, lat2)\u001b[0m\n\u001b[1;32m     52\u001b[0m     \u001b[0;34m.\u001b[0m\u001b[0;34m.\u001b[0m \u001b[0;34m[\u001b[0m\u001b[0;36m1\u001b[0m\u001b[0;34m]\u001b[0m \u001b[0mhttps\u001b[0m\u001b[0;34m:\u001b[0m\u001b[0;34m//\u001b[0m\u001b[0men\u001b[0m\u001b[0;34m.\u001b[0m\u001b[0mwikipedia\u001b[0m\u001b[0;34m.\u001b[0m\u001b[0morg\u001b[0m\u001b[0;34m/\u001b[0m\u001b[0mwiki\u001b[0m\u001b[0;34m/\u001b[0m\u001b[0mGreat\u001b[0m\u001b[0;34m-\u001b[0m\u001b[0mcircle_distance\u001b[0m\u001b[0;34m\u001b[0m\u001b[0;34m\u001b[0m\u001b[0m\n\u001b[1;32m     53\u001b[0m     \"\"\"\n\u001b[0;32m---> 54\u001b[0;31m     \u001b[0msdlon\u001b[0m \u001b[0;34m=\u001b[0m \u001b[0mnp\u001b[0m\u001b[0;34m.\u001b[0m\u001b[0msin\u001b[0m\u001b[0;34m(\u001b[0m\u001b[0mlon2\u001b[0m \u001b[0;34m-\u001b[0m \u001b[0mlon1\u001b[0m\u001b[0;34m)\u001b[0m\u001b[0;34m\u001b[0m\u001b[0;34m\u001b[0m\u001b[0m\n\u001b[0m\u001b[1;32m     55\u001b[0m     \u001b[0mcdlon\u001b[0m \u001b[0;34m=\u001b[0m \u001b[0mnp\u001b[0m\u001b[0;34m.\u001b[0m\u001b[0mcos\u001b[0m\u001b[0;34m(\u001b[0m\u001b[0mlon2\u001b[0m \u001b[0;34m-\u001b[0m \u001b[0mlon1\u001b[0m\u001b[0;34m)\u001b[0m\u001b[0;34m\u001b[0m\u001b[0;34m\u001b[0m\u001b[0m\n\u001b[1;32m     56\u001b[0m     \u001b[0mslat1\u001b[0m \u001b[0;34m=\u001b[0m \u001b[0mnp\u001b[0m\u001b[0;34m.\u001b[0m\u001b[0msin\u001b[0m\u001b[0;34m(\u001b[0m\u001b[0mlat1\u001b[0m\u001b[0;34m)\u001b[0m\u001b[0;34m\u001b[0m\u001b[0;34m\u001b[0m\u001b[0m\n",
      "\u001b[0;32m~/opt/anaconda3/lib/python3.9/site-packages/astropy/units/quantity.py\u001b[0m in \u001b[0;36m__array_ufunc__\u001b[0;34m(self, function, method, *inputs, **kwargs)\u001b[0m\n\u001b[1;32m    664\u001b[0m \u001b[0;34m\u001b[0m\u001b[0m\n\u001b[1;32m    665\u001b[0m             \u001b[0;31m# Call our superclass's __array_ufunc__\u001b[0m\u001b[0;34m\u001b[0m\u001b[0;34m\u001b[0m\u001b[0m\n\u001b[0;32m--> 666\u001b[0;31m             \u001b[0mresult\u001b[0m \u001b[0;34m=\u001b[0m \u001b[0msuper\u001b[0m\u001b[0;34m(\u001b[0m\u001b[0;34m)\u001b[0m\u001b[0;34m.\u001b[0m\u001b[0m__array_ufunc__\u001b[0m\u001b[0;34m(\u001b[0m\u001b[0mfunction\u001b[0m\u001b[0;34m,\u001b[0m \u001b[0mmethod\u001b[0m\u001b[0;34m,\u001b[0m \u001b[0;34m*\u001b[0m\u001b[0marrays\u001b[0m\u001b[0;34m,\u001b[0m \u001b[0;34m**\u001b[0m\u001b[0mkwargs\u001b[0m\u001b[0;34m)\u001b[0m\u001b[0;34m\u001b[0m\u001b[0;34m\u001b[0m\u001b[0m\n\u001b[0m\u001b[1;32m    667\u001b[0m             \u001b[0;31m# If unit is None, a plain array is expected (e.g., comparisons), which\u001b[0m\u001b[0;34m\u001b[0m\u001b[0;34m\u001b[0m\u001b[0m\n\u001b[1;32m    668\u001b[0m             \u001b[0;31m# means we're done.\u001b[0m\u001b[0;34m\u001b[0m\u001b[0;34m\u001b[0m\u001b[0m\n",
      "\u001b[0;31mKeyboardInterrupt\u001b[0m: "
     ]
    }
   ],
   "source": [
    "channelmaps_hdu = get_channel_maps(inputfile, \n",
    "                                   start=-40, \n",
    "                                   stop=130, \n",
    "                                   step=0.5)"
   ]
  },
  {
   "cell_type": "code",
   "execution_count": null,
   "id": "4fe19097",
   "metadata": {},
   "outputs": [],
   "source": [
    "go_colourscale = False \n",
    "go_rgb = True"
   ]
  },
  {
   "cell_type": "code",
   "execution_count": null,
   "id": "180311c3",
   "metadata": {},
   "outputs": [],
   "source": [
    "if go_colourscale: \n",
    "    # ensuring plotting over same scale\n",
    "    data = channelmaps_hdu.data.copy()\n",
    "    vmin, vmax = np.nanpercentile(data, [0.1, 99.9])\n",
    "    std = stats.mad_std(data, ignore_nan=True)\n",
    "    std = stats.mad_std(data[data<3*std], ignore_nan=True)\n",
    "    print(vmin, vmax, std)\n",
    "\n",
    "    plot_channel_maps_indv(channelmaps_hdu, \n",
    "                    start = -40, \n",
    "                    stop = 130, \n",
    "                    step = 0.5, \n",
    "                    vmin = vmin, \n",
    "                    vmax = vmax, \n",
    "                    std = std,\n",
    "                    fileappend = 'hcno_chans/hcno_chans')"
   ]
  },
  {
   "cell_type": "code",
   "execution_count": null,
   "id": "97aea626",
   "metadata": {},
   "outputs": [],
   "source": [
    "if go_colourscale: \n",
    "    import imageio\n",
    "    filenames = glob('../figures/hcno_chans/*.png')\n",
    "    filenames_sorted = sorted(filenames, key=lambda x: int(x.split('_')[-1].split('.')[0]))\n",
    "    images = []\n",
    "    for filename in filenames_sorted:\n",
    "        images.append(imageio.imread(filename))\n",
    "    imageio.mimsave('../figures/hcno_chans/hnco_chans_movie.gif', images)"
   ]
  },
  {
   "cell_type": "markdown",
   "id": "9f39995e",
   "metadata": {},
   "source": [
    "For larger region, using cube from Adam.... "
   ]
  },
  {
   "cell_type": "code",
   "execution_count": 6,
   "id": "ca70335e",
   "metadata": {},
   "outputs": [
    {
     "name": "stdout",
     "output_type": "stream",
     "text": [
      "/Users/abarnes/Dropbox/work/Smallprojects/aces/data/alma/12m7mtp_lowres/HNCO_7m12mTP_CubeMosaic_downsample9.fits\n",
      "<astropy.io.fits.hdu.image.PrimaryHDU object at 0x7f8d11388850>\n"
     ]
    }
   ],
   "source": [
    "inputfile = '/Users/abarnes/Dropbox/work/Smallprojects/aces/data/alma/12m7mtp_lowres/HNCO_7m12mTP_CubeMosaic_downsample9.fits'\n",
    "print(inputfile)\n",
    "hdu = fits.open(inputfile)[0]\n",
    "print(hdu)"
   ]
  },
  {
   "cell_type": "code",
   "execution_count": 7,
   "id": "1c3a99e9",
   "metadata": {},
   "outputs": [
    {
     "name": "stderr",
     "output_type": "stream",
     "text": [
      "WARNING: AstropyDeprecationWarning: The DS9Parser class is deprecated and may be removed in a future version.\n",
      "        Use `regions.Regions.parse` instead. [spectral_cube.spectral_cube]\n"
     ]
    }
   ],
   "source": [
    "cube = getdata.get_cube(hdu)\n",
    "ds9_str = 'galactic; box(0.6994511,-0.0888193,1822.851\",1485.249\",0.13374212)'\n",
    "subcube = cube.subcube_from_ds9region(ds9_str) \n",
    "hdu = subcube.hdu"
   ]
  },
  {
   "cell_type": "code",
   "execution_count": 8,
   "id": "0c915975",
   "metadata": {},
   "outputs": [
    {
     "name": "stderr",
     "output_type": "stream",
     "text": [
      "100%|██████████| 343/343 [00:23<00:00, 14.48it/s]\n"
     ]
    }
   ],
   "source": [
    "channelmaps_hdu = get_channel_maps(hdu, \n",
    "                                   start=-40, \n",
    "                                   stop=103, \n",
    "                                   step=2.081859300000E-01*2)"
   ]
  },
  {
   "cell_type": "code",
   "execution_count": 9,
   "id": "f0f450cc",
   "metadata": {},
   "outputs": [
    {
     "name": "stdout",
     "output_type": "stream",
     "text": [
      "-0.03881841644464202 0.17544747415957493 0.006776248599068694\n"
     ]
    }
   ],
   "source": [
    "# ensuring plotting over same scale\n",
    "data = channelmaps_hdu.data.copy()\n",
    "vmin, vmax = np.nanpercentile(data, [0.1, 99.9])\n",
    "std = stats.mad_std(data, ignore_nan=True)\n",
    "std = stats.mad_std(data[data<3*std], ignore_nan=True)\n",
    "print(vmin, vmax, std)"
   ]
  },
  {
   "cell_type": "code",
   "execution_count": 14,
   "id": "ea180ae0",
   "metadata": {},
   "outputs": [
    {
     "data": {
      "text/plain": [
       "()"
      ]
     },
     "execution_count": 14,
     "metadata": {},
     "output_type": "execute_result"
    }
   ],
   "source": [
    "plot_channel_maps_indv(channelmaps_hdu, \n",
    "                  start = -40, \n",
    "                  stop = 103, \n",
    "                  step = 2.081859300000E-01*2, \n",
    "                  vmin = vmin,  \n",
    "                  vmax = vmax, \n",
    "                  std = None,\n",
    "                  l=0.6994511, \n",
    "                  b=-0.0888193, \n",
    "                  width=0.5063474, \n",
    "                  height=0.4125693,\n",
    "                  fileappend = 'hcno_chans_large/hcno_chans')"
   ]
  },
  {
   "cell_type": "code",
   "execution_count": null,
   "id": "16a75324",
   "metadata": {},
   "outputs": [],
   "source": [
    "import imageio\n",
    "filenames = glob('../figures/hcno_chans_large/*.png')\n",
    "filenames_sorted = sorted(filenames, key=lambda x: int(x.split('_')[-1].split('.')[0]))\n",
    "images = []\n",
    "for filename in filenames_sorted:\n",
    "    images.append(imageio.imread(filename))\n",
    "imageio.mimsave('../figures/hcno_chans_large/hcno_chans_large_movie.gif', images)"
   ]
  }
 ],
 "metadata": {
  "kernelspec": {
   "display_name": "Python 3 (ipykernel)",
   "language": "python",
   "name": "python3"
  },
  "language_info": {
   "codemirror_mode": {
    "name": "ipython",
    "version": 3
   },
   "file_extension": ".py",
   "mimetype": "text/x-python",
   "name": "python",
   "nbconvert_exporter": "python",
   "pygments_lexer": "ipython3",
   "version": "3.9.13"
  }
 },
 "nbformat": 4,
 "nbformat_minor": 5
}
