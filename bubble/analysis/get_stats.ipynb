{
 "cells": [
  {
   "cell_type": "code",
   "execution_count": 1,
   "id": "3bb90357-3450-4e87-94c4-4f0e19fbb836",
   "metadata": {},
   "outputs": [],
   "source": [
    "import numpy as np\n",
    "from astropy import units as u \n",
    "from astropy import constants as c\n",
    "from astropy.io import fits\n",
    "import matplotlib.pyplot as plt\n",
    "import spectral_cube\n",
    "import aplpy\n",
    "from math import ceil\n",
    "import pyspeckit\n",
    "import colorcet\n",
    "import matplotlib as mpl\n",
    "\n",
    "plt.style.use('paper')"
   ]
  },
  {
   "cell_type": "code",
   "execution_count": 2,
   "id": "df02a020-3004-41fb-ab5a-681bd04cd64d",
   "metadata": {},
   "outputs": [],
   "source": [
    "def get_Ekin(mass, velo):\n",
    "    return((0.5*mass*velo**2).to('erg'))\n",
    "\n",
    "def get_pmom(mass, velo):\n",
    "    return((mass*velo).to('Msun*km/s'))"
   ]
  },
  {
   "cell_type": "code",
   "execution_count": 7,
   "id": "20fac179-2b5d-42ed-bf2e-e4763ec79cef",
   "metadata": {},
   "outputs": [],
   "source": [
    "velo = 15.05*u.km/u.s\n",
    "\n",
    "mass = 1.6e5*u.Msun\n",
    "mass_low = 2.7e3*u.Msun\n",
    "mass_up = 3.2e5*u.Msun"
   ]
  },
  {
   "cell_type": "code",
   "execution_count": 8,
   "id": "a6afeaa4-2868-454a-963a-714184be698c",
   "metadata": {},
   "outputs": [],
   "source": [
    "Ekin = get_Ekin(mass, velo)\n",
    "Ekin_low = get_Ekin(mass_low, velo)\n",
    "Ekin_up = get_Ekin(mass_up, velo)\n",
    "\n",
    "pmom = get_pmom(mass, velo)\n",
    "pmom_low = get_pmom(mass_low, velo)\n",
    "pmom_up = get_pmom(mass_up, velo)"
   ]
  },
  {
   "cell_type": "code",
   "execution_count": 9,
   "id": "905f8191-be47-484e-a2cd-5ca266f1a327",
   "metadata": {},
   "outputs": [
    {
     "name": "stdout",
     "output_type": "stream",
     "text": [
      "3.6e+50 6.1e+48 7.2e+50 erg\n"
     ]
    }
   ],
   "source": [
    "print('%0.1e %0.1e %0.1e erg' %(Ekin.value, Ekin_low.value, Ekin_up.value))"
   ]
  },
  {
   "cell_type": "code",
   "execution_count": 10,
   "id": "c924e056-871e-48a6-91cd-d0d2f81566d0",
   "metadata": {},
   "outputs": [
    {
     "name": "stdout",
     "output_type": "stream",
     "text": [
      "2.4e+06 4.1e+04 4.8e+06 solMass km/s\n"
     ]
    }
   ],
   "source": [
    "print('%0.1e %0.1e %0.1e solMass km/s' %(pmom.value, pmom_low.value, pmom_up.value))"
   ]
  },
  {
   "cell_type": "code",
   "execution_count": null,
   "id": "6446f41e-b9cd-49a4-8fb6-8ad9716b8a8b",
   "metadata": {},
   "outputs": [],
   "source": []
  }
 ],
 "metadata": {
  "kernelspec": {
   "display_name": "Python 3 (ipykernel)",
   "language": "python",
   "name": "python3"
  },
  "language_info": {
   "codemirror_mode": {
    "name": "ipython",
    "version": 3
   },
   "file_extension": ".py",
   "mimetype": "text/x-python",
   "name": "python",
   "nbconvert_exporter": "python",
   "pygments_lexer": "ipython3",
   "version": "3.9.13"
  }
 },
 "nbformat": 4,
 "nbformat_minor": 5
}
