{
 "cells": [
  {
   "cell_type": "code",
   "execution_count": 1,
   "id": "3bb90357-3450-4e87-94c4-4f0e19fbb836",
   "metadata": {},
   "outputs": [],
   "source": [
    "import numpy as np\n",
    "from astropy import units as u \n",
    "from astropy import constants as c\n",
    "import matplotlib.pyplot as plt\n",
    "\n",
    "plt.style.use('paper')"
   ]
  },
  {
   "cell_type": "code",
   "execution_count": 2,
   "id": "3e6d561d",
   "metadata": {},
   "outputs": [],
   "source": [
    "def get_volume_shell(r1, r2):\n",
    "    v1 = 4/3 * np.pi * r1**3\n",
    "    v2 = 4/3 * np.pi * r2**3\n",
    "    return(v2-v1)\n",
    "\n",
    "def get_mass(v, n, mu=2.33):\n",
    "    N = n*v\n",
    "    m = N*c.m_p*mu\n",
    "    return(m.to('Msun')) \n",
    "\n",
    "def get_Ekin(mass, velo):\n",
    "    return((0.5*mass*velo**2).to('erg'))\n",
    "\n",
    "def get_pmom(mass, velo):\n",
    "    return((mass*velo).to('Msun*km/s'))"
   ]
  },
  {
   "cell_type": "code",
   "execution_count": 3,
   "id": "61a09ea9",
   "metadata": {},
   "outputs": [],
   "source": [
    "n_low = 10**(3.5) *u.cm**-3    \n",
    "n     = 10**(4.2) *u.cm**-3\n",
    "n_up  = 10**(5.5) *u.cm**-3\n",
    " \n",
    "r1 = 4.5 *u.pc\n",
    "r2 = 5.5 *u.pc\n",
    "\n",
    "velo = 15.05*u.km/u.s"
   ]
  },
  {
   "cell_type": "code",
   "execution_count": 4,
   "id": "3231608a",
   "metadata": {},
   "outputs": [],
   "source": [
    "v = get_volume_shell(r1, r2)\n",
    "\n",
    "mass     = get_mass(v, n)\n",
    "mass_low = get_mass(v, n_low)\n",
    "mass_up  = get_mass(v, n_up)\n",
    "\n",
    "Ekin = get_Ekin(mass, velo)\n",
    "Ekin_low = get_Ekin(mass_low, velo)\n",
    "Ekin_up = get_Ekin(mass_up, velo)\n",
    "\n",
    "pmom = get_pmom(mass, velo)\n",
    "pmom_low = get_pmom(mass_low, velo)\n",
    "pmom_up = get_pmom(mass_up, velo)"
   ]
  },
  {
   "cell_type": "code",
   "execution_count": 19,
   "id": "355a26ff",
   "metadata": {},
   "outputs": [
    {
     "name": "stdout",
     "output_type": "stream",
     "text": [
      "mass: \t  \t 2.9e+05 Msun\n",
      "mass (low):  \t 5.7e+04 Msun\n",
      "mass (high): \t 5.7e+06 Msun\n",
      "Energy: \t 6.5e+50 1.3e+50 1.3e+52 erg\n",
      "Momentum:  \t 4.3e+06 8.6e+05 8.6e+07 solMass km/s\n"
     ]
    }
   ],
   "source": [
    "print('mass: \\t  \\t %0.1e Msun' %(mass.value))\n",
    "print('mass (low):  \\t %0.1e Msun' %(mass_low.value))\n",
    "print('mass (high): \\t %0.1e Msun' %(mass_up.value))\n",
    "\n",
    "print('Energy: \\t %0.1e %0.1e %0.1e erg' %(Ekin.value, Ekin_low.value, Ekin_up.value))\n",
    "print('Momentum:  \\t %0.1e %0.1e %0.1e solMass km/s' %(pmom.value, pmom_low.value, pmom_up.value))"
   ]
  },
  {
   "cell_type": "code",
   "execution_count": null,
   "id": "30ba8fdb",
   "metadata": {},
   "outputs": [],
   "source": []
  }
 ],
 "metadata": {
  "kernelspec": {
   "display_name": "Python 3 (ipykernel)",
   "language": "python",
   "name": "python3"
  },
  "language_info": {
   "codemirror_mode": {
    "name": "ipython",
    "version": 3
   },
   "file_extension": ".py",
   "mimetype": "text/x-python",
   "name": "python",
   "nbconvert_exporter": "python",
   "pygments_lexer": "ipython3",
   "version": "3.9.13"
  }
 },
 "nbformat": 4,
 "nbformat_minor": 5
}
