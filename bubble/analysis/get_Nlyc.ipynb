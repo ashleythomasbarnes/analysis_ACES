{
 "cells": [
  {
   "cell_type": "code",
   "execution_count": 1,
   "id": "4279df33-d07a-4425-96a7-bbd88433544d",
   "metadata": {},
   "outputs": [],
   "source": [
    "import numpy as np\n",
    "from data_cube_analysis import getdata, rms, masks, moments\n",
    "from astropy import units as u \n",
    "from astropy.io import fits\n",
    "from astropy.convolution import convolve_fft, convolve, Gaussian2DKernel\n",
    "import matplotlib.pyplot as plt\n",
    "import spectral_cube\n",
    "import aplpy\n",
    "from math import ceil\n",
    "import pyspeckit\n",
    "import colorcet\n",
    "import matplotlib as mpl\n",
    "from glob import glob\n",
    "\n",
    "plt.style.use('paper')"
   ]
  },
  {
   "cell_type": "code",
   "execution_count": 2,
   "id": "b9624005-c941-48d5-8dbf-684be3f12e28",
   "metadata": {},
   "outputs": [],
   "source": [
    "flux_12m = 8.44*u.mJy #measured from images in Carta\n",
    "flux_12msd = 15.49*u.mJy\n",
    "\n",
    "freq = 98.6*u.GHz\n",
    "Te = 5e3 *u.K\n",
    "d = 8.18 *u.kpc"
   ]
  },
  {
   "cell_type": "code",
   "execution_count": 3,
   "id": "57fa257e-fa03-4f3f-91d6-24a2183d7d91",
   "metadata": {},
   "outputs": [],
   "source": [
    "def get_Nlyc(flux, v, Te, d):\n",
    "    Nlyc = 8.4e40 * (flux.to(u.Jy)/u.Jy) * (v.to(u.GHz)/u.GHz)**0.1 * (Te.to(u.K)/u.K/1e4)**(-0.45) * (d.to(u.pc)/u.pc)**2 \n",
    "    return(Nlyc*u.s)"
   ]
  },
  {
   "cell_type": "code",
   "execution_count": 5,
   "id": "fa4b0329-9412-4ccd-83a2-70cc99fa991a",
   "metadata": {},
   "outputs": [],
   "source": [
    "Nlyc_12m = get_Nlyc(flux_12m, freq, Te, d)\n",
    "Nlyc_12msd = get_Nlyc(flux_12msd, freq, Te, d)"
   ]
  },
  {
   "cell_type": "code",
   "execution_count": 10,
   "id": "16dd88b8-e161-4dbb-bd41-2105acb787d3",
   "metadata": {},
   "outputs": [
    {
     "data": {
      "text/plain": [
       "(<Dex 47.01097953 dex(s)>, <Dex 47.2746885 dex(s)>)"
      ]
     },
     "execution_count": 10,
     "metadata": {},
     "output_type": "execute_result"
    }
   ],
   "source": [
    "Nlyc_12m.to('dex(s)'), Nlyc_12msd.to('dex(s)')"
   ]
  },
  {
   "cell_type": "code",
   "execution_count": null,
   "id": "3513f3fd-683b-4beb-85f6-75e5d5914a74",
   "metadata": {},
   "outputs": [],
   "source": []
  }
 ],
 "metadata": {
  "kernelspec": {
   "display_name": "Python 3 (ipykernel)",
   "language": "python",
   "name": "python3"
  },
  "language_info": {
   "codemirror_mode": {
    "name": "ipython",
    "version": 3
   },
   "file_extension": ".py",
   "mimetype": "text/x-python",
   "name": "python",
   "nbconvert_exporter": "python",
   "pygments_lexer": "ipython3",
   "version": "3.9.13"
  }
 },
 "nbformat": 4,
 "nbformat_minor": 5
}
