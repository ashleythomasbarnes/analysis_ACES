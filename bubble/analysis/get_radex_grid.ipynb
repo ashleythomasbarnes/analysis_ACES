{
 "cells": [
  {
   "cell_type": "code",
   "execution_count": 94,
   "id": "3827c64a-5839-476b-9d77-5fac2d1c95d0",
   "metadata": {},
   "outputs": [],
   "source": [
    "from spectralradex import radex\n",
    "import numpy as np\n",
    "from astropy import units as u \n",
    "from astropy import constants as c\n",
    "from astropy.table import Table\n",
    "import matplotlib.pyplot as plt\n",
    "import pandas as pd\n",
    "from multiprocessing import Pool\n",
    "\n",
    "import warnings\n",
    "warnings.filterwarnings('ignore')"
   ]
  },
  {
   "cell_type": "code",
   "execution_count": 14,
   "id": "894316e3-bfa5-4acf-988f-ff086770b50c",
   "metadata": {
    "tags": []
   },
   "outputs": [
    {
     "name": "stdout",
     "output_type": "stream",
     "text": [
      "[INFO] No rerun\n"
     ]
    }
   ],
   "source": [
    "params = radex.get_example_grid_parameters()\n",
    "\n",
    "params['tkin'] = np.arange(30, 150, 5)\n",
    "params['h2'] = 10**np.arange(1, 8, 0.05)\n",
    "params['linewidth'] = [1, 5, 10, 20]\n",
    "\n",
    "N_h2 = 8.5e22 \n",
    "X_hnco = 10**np.arange(-10, -5, 0.05)\n",
    "params['cdmol'] = X_hnco * N_h2\n",
    "\n",
    "params['molfile'] = 'hnco.dat'\n",
    "params['fmin'] = 87.925\n",
    "params['fmax'] = 87.926\n",
    "\n",
    "renrun = False\n",
    "if renrun:\n",
    "    pool=Pool(36)\n",
    "    grid_df = radex.run_grid(params, target_value=\"T_R (K)\", pool=pool)\n",
    "    grid_df.to_csv('./../data/radex/grid_df.csv')\n",
    "else: \n",
    "    print('[INFO] No rerun')\n"
   ]
  },
  {
   "cell_type": "code",
   "execution_count": 111,
   "metadata": {},
   "outputs": [
    {
     "data": {
      "application/vnd.jupyter.widget-view+json": {
       "model_id": "e06ba532ca72444d844771795e84b99c",
       "version_major": 2,
       "version_minor": 0
      },
      "text/plain": [
       "  0%|          | 0/432000 [00:00<?, ?it/s]"
      ]
     },
     "metadata": {},
     "output_type": "display_data"
    }
   ],
   "source": [
    "grid = Table.read('./../data/radex/grid_df.csv')\n",
    "\n",
    "grid['col0'].name = 'id'\n",
    "grid['h2'].name = 'n_h2'\n",
    "grid['cdmol'].name = 'N_hnco'\n",
    "grid['(4_0_4)-(3_0_3)[87.92523962 GHz]'].name = 'I_hnco'\n",
    "\n",
    "# Some the values did not converge are are missing, which makes assigning an Xhnco a little difficult\n",
    "X_hnco_column = []\n",
    "for id in tqdm(range(len(grid))):\n",
    "    where = np.float32(grid['N_hnco'][id]) == np.float32(np.round(N_hnco))\n",
    "    X_hnco_column += [np.round(X_hnco[np.where(where)[0][0]], 15)]\n",
    "grid.add_column(X_hnco_column, name='X_hnco')\n",
    "\n",
    "mask = (grid['I_hnco']>1)&(grid['I_hnco']<5)\n",
    "grid.add_column(mask*1, name='mask')"
   ]
  }
 ],
 "metadata": {
  "kernelspec": {
   "display_name": "Python 3 (ipykernel)",
   "language": "python",
   "name": "python3"
  },
  "language_info": {
   "codemirror_mode": {
    "name": "ipython",
    "version": 3
   },
   "file_extension": ".py",
   "mimetype": "text/x-python",
   "name": "python",
   "nbconvert_exporter": "python",
   "pygments_lexer": "ipython3",
   "version": "3.9.13"
  }
 },
 "nbformat": 4,
 "nbformat_minor": 5
}
