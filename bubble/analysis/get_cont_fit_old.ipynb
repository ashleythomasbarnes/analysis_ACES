{
 "cells": [
  {
   "cell_type": "code",
   "execution_count": 23,
   "id": "0bbdd82b-b722-4a4d-ae98-9a85c2fc2950",
   "metadata": {},
   "outputs": [],
   "source": [
    "from glob import glob\n",
    "# from casatasks import importfits, imstat\n",
    "import numpy as np\n",
    "from astropy.table import QTable\n",
    "import astropy.units as u\n",
    "from astropy.io import fits\n",
    "from astropy import stats\n",
    "import os\n",
    "from scipy.ndimage import binary_dilation  \n",
    "from astropy.modeling import models, fitting\n",
    "import numpy as np\n",
    "from astropy.modeling import models, fitting\n",
    "import matplotlib.pyplot as plt\n",
    "from matplotlib.colors import LogNorm\n",
    "import warnings\n",
    "warnings.filterwarnings('ignore')\n",
    "from regions import CircleSkyRegion, EllipseSkyRegion, Regions, RectangleSkyRegion\n",
    "import numpy as np\n",
    "from astropy.table import Table\n",
    "import astropy.constants as ac\n",
    "import astropy.units as au\n",
    "from spectral_cube import SpectralCube\n",
    "from astropy.io import fits\n",
    "import pyregion\n",
    "import os\n",
    "import pickle\n",
    "from tqdm.auto import tqdm \n",
    "import reproject\n",
    "from astropy.wcs import WCS\n",
    "from astropy.coordinates import SkyCoord\n",
    "from astropy.nddata import Cutout2D\n",
    "import gc\n",
    "from radio_beam import Beam"
   ]
  },
  {
   "cell_type": "code",
   "execution_count": 206,
   "id": "90a9b4ca-940d-499c-ac38-2e8d9debcfb3",
   "metadata": {},
   "outputs": [],
   "source": [
    "def fit_2d_gaussian_and_get_sum(image):\n",
    "\n",
    "    image = np.squeeze(image)\n",
    "    image[np.isnan(image)] = 0\n",
    "\n",
    "    # Get the center of the image\n",
    "    shape_x, shape_y = image.shape\n",
    "    center_x, center_y = np.array(image.shape) // 2\n",
    "    \n",
    "    # Create x, y indices grid for the sub-image\n",
    "    x, y = np.array(np.mgrid[:shape_x, :shape_y], dtype=np.int32)\n",
    "\n",
    "    amplitude = np.nanmax(image)\n",
    "    center_x, center_y = np.where(image==amplitude)\n",
    "    \n",
    "    # Initialize the Gaussian2D model\n",
    "    g_init = models.Gaussian2D(amplitude=np.nanmax(image), x_mean=center_x[0], y_mean=center_y[0], x_stddev=0.3, y_stddev=0.3)\n",
    "    \n",
    "    # Fit the model to the sub-image\n",
    "    fit_g = fitting.LevMarLSQFitter()\n",
    "    g = fit_g(g_init, x, y, image)\n",
    "    \n",
    "    # Calculate the sum of the fitted Gaussian\n",
    "    fitted_data = np.array(g(x, y))\n",
    "    gaussian_sum = np.sum(fitted_data)\n",
    "    \n",
    "    return (gaussian_sum*u.Jy, fitted_data)"
   ]
  },
  {
   "cell_type": "code",
   "execution_count": 10,
   "id": "c6bbdab5-2f33-4506-b423-59119c1d0a9c",
   "metadata": {},
   "outputs": [],
   "source": [
    "def get_croppeddata(hdu, position, width, height):\n",
    "\n",
    "    # print('now', i, regions['position'][i])\n",
    "\n",
    "    wcs = WCS(hdu)  # Create a WCS object from the HDU header\n",
    "    cutout = Cutout2D(hdu.data, position, [width, height], wcs=wcs)  \n",
    "    hdu_crop = fits.PrimaryHDU(cutout.data, cutout.wcs.to_header())\n",
    "\n",
    "    del hdu \n",
    "    del cutout  # Delete the cutout to free up memory\n",
    "    _ = gc.collect()  # Perform garbage collection\n",
    "\n",
    "    return hdu_crop  # Return the cropped HDU object"
   ]
  },
  {
   "cell_type": "code",
   "execution_count": 93,
   "id": "3bbc48af-6745-4b93-8180-77661122583d",
   "metadata": {},
   "outputs": [],
   "source": [
    "def convert_jybeam_to_jypixel(hdu, hdu_beam):\n",
    "\n",
    "    hdu_scaled = hdu.copy()\n",
    "    \n",
    "    beam = Beam.from_fits_header(hdu_beam.header)\n",
    "    beam_area = beam.beamarea_equiv[0][1].to(au.sr)*au.sr\n",
    "    pix_area = ((np.abs(hdu.header['CDELT1']))*au.deg)**2\n",
    "    ratio_area = pix_area.to(au.sr)/beam_area.to(au.sr)\n",
    "    \n",
    "    hdu_scaled.data = hdu_scaled.data * ratio_area\n",
    "    \n",
    "    return(hdu_scaled)"
   ]
  },
  {
   "cell_type": "code",
   "execution_count": 11,
   "id": "4bcb1913-01cb-4d31-a7ba-f5ee04a2a1e4",
   "metadata": {},
   "outputs": [],
   "source": [
    "file_cont12msd = '/Users/abarnes/Dropbox/work/Smallprojects/aces/data/misc/regrid_crop/cont_12mtp_final_filled.fits'\n",
    "file_cont12m = '/Users/abarnes/Dropbox/work/Smallprojects/aces/data/misc/regrid_crop/12m_continuum_commonbeam_circular_reimaged_mosaic.fits'\n",
    "\n",
    "hdu_cont12msd = fits.open(file_cont12msd)[0]\n",
    "hdu_cont12m = fits.open(file_cont12m)[0]"
   ]
  },
  {
   "cell_type": "code",
   "execution_count": 214,
   "id": "51d80d69-1341-40f7-8e1a-87b8614b2bcd",
   "metadata": {},
   "outputs": [],
   "source": [
    "position = SkyCoord(ra=267.0773255*au.deg, dec=-28.3301381*au.deg, frame='icrs')\n",
    "radius = 0.0007184*au.deg*2\n",
    "\n",
    "hducrop_cont12msd = get_croppeddata(hdu_cont12msd, position, radius, radius)\n",
    "hducrop_cont12m = get_croppeddata(hdu_cont12m, position, radius, radius)"
   ]
  },
  {
   "cell_type": "code",
   "execution_count": 215,
   "id": "035bdd41-e255-4843-ad83-5d457aab6ab0",
   "metadata": {},
   "outputs": [],
   "source": [
    "hducrop_cont12msd_scaled = convert_jybeam_to_jypixel(hducrop_cont12msd, hdu_cont12msd)\n",
    "hducrop_cont12m_scaled = convert_jybeam_to_jypixel(hducrop_cont12m, hdu_cont12m)"
   ]
  },
  {
   "cell_type": "code",
   "execution_count": 216,
   "id": "fb927dc1-5fbe-451d-a924-b99eeda112f7",
   "metadata": {},
   "outputs": [],
   "source": [
    "fit1 = fit_2d_gaussian_and_get_sum(hducrop_cont12m_scaled.data)\n",
    "fit2 = fit_2d_gaussian_and_get_sum(hducrop_cont12msd_scaled.data)"
   ]
  },
  {
   "cell_type": "code",
   "execution_count": 222,
   "id": "49373643-9055-4b71-935d-6efdcc9366cf",
   "metadata": {},
   "outputs": [
    {
     "data": {
      "text/plain": [
       "<matplotlib.image.AxesImage at 0x7fa36a6908e0>"
      ]
     },
     "execution_count": 222,
     "metadata": {},
     "output_type": "execute_result"
    },
    {
     "data": {
      "image/png": "[encoded data removed]",
      "text/plain": [
       "<Figure size 640x480 with 1 Axes>"
      ]
     },
     "metadata": {},
     "output_type": "display_data"
    }
   ],
   "source": [
    "plt.imshow(hducrop_cont12msd_scaled.data) #, plt.imshow(fit2[1]), fit2[0]"
   ]
  },
  {
   "cell_type": "code",
   "execution_count": 223,
   "id": "9d69418f-6bb2-4c1d-936b-e1ecd0c5154b",
   "metadata": {},
   "outputs": [
    {
     "data": {
      "text/plain": [
       "<matplotlib.image.AxesImage at 0x7fa358c0fb80>"
      ]
     },
     "execution_count": 223,
     "metadata": {},
     "output_type": "execute_result"
    },
    {
     "data": {
      "image/png": "[encoded data removed]",
      "text/plain": [
       "<Figure size 640x480 with 1 Axes>"
      ]
     },
     "metadata": {},
     "output_type": "display_data"
    }
   ],
   "source": [
    "plt.imshow(fit2[1])"
   ]
  },
  {
   "cell_type": "code",
   "execution_count": null,
   "id": "3c5225e3-05b5-488c-91b6-bab9c40e35bc",
   "metadata": {},
   "outputs": [],
   "source": []
  }
 ],
 "metadata": {
  "kernelspec": {
   "display_name": "Python 3 (ipykernel)",
   "language": "python",
   "name": "python3"
  },
  "language_info": {
   "codemirror_mode": {
    "name": "ipython",
    "version": 3
   },
   "file_extension": ".py",
   "mimetype": "text/x-python",
   "name": "python",
   "nbconvert_exporter": "python",
   "pygments_lexer": "ipython3",
   "version": "3.9.13"
  }
 },
 "nbformat": 4,
 "nbformat_minor": 5
}
