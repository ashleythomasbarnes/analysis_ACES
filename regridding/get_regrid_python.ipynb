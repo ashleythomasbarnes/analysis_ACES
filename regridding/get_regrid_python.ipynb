{
 "cells": [
  {
   "cell_type": "code",
   "execution_count": 1,
   "metadata": {},
   "outputs": [],
   "source": [
    "import reproject\n",
    "from reproject.mosaicking import find_optimal_celestial_wcs\n",
    "import numpy as np\n",
    "from astropy.io import fits\n",
    "from astropy import units as u"
   ]
  },
  {
   "cell_type": "code",
   "execution_count": 7,
   "metadata": {},
   "outputs": [],
   "source": [
    "def regrid_to_template(hdu, hdu_template):\n",
    "\n",
    "    header = hdu.header\n",
    "    header_template = hdu_template.header\n",
    "    \n",
    "    data_rg, _ = reproject.reproject_exact(hdu, header_template)\n",
    "    hdu_rg = fits.PrimaryHDU(data_rg, header_template)\n",
    "\n",
    "    return hdu_rg\n",
    "\n",
    "def regrid_to_galactic(hdu, auto_rotate=True):\n",
    "\n",
    "    hdu_ = hdu.copy()\n",
    "\n",
    "    header = hdu_.header\n",
    "    data = hdu_.data\n",
    "    \n",
    "    wcs_out, shape_out = find_optimal_celestial_wcs(hdu_, frame='galactic', auto_rotate=auto_rotate)\n",
    "    wcs_header = wcs_out.to_header() \n",
    "    data_rg, _ = reproject.reproject_interp(hdu_, wcs_header, shape_out=shape_out)\n",
    "            \n",
    "    hdu_rg = fits.PrimaryHDU(data_rg, wcs_header)\n",
    "\n",
    "    return hdu_rg\n",
    "\n",
    "def regrid_to_galactic_ex(hdu, auto_rotate=True):\n",
    "\n",
    "    hdu_ = hdu.copy()\n",
    "\n",
    "    header = hdu_.header\n",
    "    data = hdu_.data\n",
    "    \n",
    "    wcs_out, shape_out = find_optimal_celestial_wcs(hdu_, frame='galactic', auto_rotate=auto_rotate)\n",
    "    wcs_header = wcs_out.to_header() \n",
    "    data_rg, _ = reproject.reproject_exact(hdu_, wcs_header, shape_out=shape_out)\n",
    "            \n",
    "    hdu_rg = fits.PrimaryHDU(data_rg, wcs_header)\n",
    "\n",
    "    return hdu_rg"
   ]
  },
  {
   "cell_type": "code",
   "execution_count": 4,
   "metadata": {},
   "outputs": [],
   "source": [
    "hdu = fits.open('./data_raw/member.uid___A001_X15a0_X1a2.Sgr_A_star_sci.spw33.mfs.I.pbcor.fits')[0]\n",
    "hdu.data = np.squeeze(hdu.data)\n",
    "del hdu.header['*3*']\n",
    "del hdu.header['*4*']\n",
    "del hdu.header['*HISTORY*']\n",
    "hdu.writeto('./data_processed/hdu.fits', overwrite=True)"
   ]
  },
  {
   "cell_type": "code",
   "execution_count": 5,
   "metadata": {},
   "outputs": [
    {
     "name": "stderr",
     "output_type": "stream",
     "text": [
      "WARNING: FITSFixedWarning: 'datfix' made the change 'Set MJD-OBS to 59701.323694 from DATE-OBS'. [astropy.wcs.wcs]\n",
      "WARNING: FITSFixedWarning: 'obsfix' made the change 'Set OBSGEO-L to   -67.754929 from OBSGEO-[XYZ].\n",
      "Set OBSGEO-B to   -23.022886 from OBSGEO-[XYZ].\n",
      "Set OBSGEO-H to     5053.796 from OBSGEO-[XYZ]'. [astropy.wcs.wcs]\n",
      "WARNING: FITSFixedWarning: 'datfix' made the change 'Set MJD-OBS to 59701.323694 from DATE-OBS'. [astropy.wcs.wcs]\n",
      "WARNING: FITSFixedWarning: 'obsfix' made the change 'Set OBSGEO-L to   -67.754929 from OBSGEO-[XYZ].\n",
      "Set OBSGEO-B to   -23.022886 from OBSGEO-[XYZ].\n",
      "Set OBSGEO-H to     5053.796 from OBSGEO-[XYZ]'. [astropy.wcs.wcs]\n",
      "WARNING: FITSFixedWarning: 'datfix' made the change 'Set MJD-OBS to 59701.323694 from DATE-OBS'. [astropy.wcs.wcs]\n",
      "WARNING: FITSFixedWarning: 'obsfix' made the change 'Set OBSGEO-L to   -67.754929 from OBSGEO-[XYZ].\n",
      "Set OBSGEO-B to   -23.022886 from OBSGEO-[XYZ].\n",
      "Set OBSGEO-H to     5053.796 from OBSGEO-[XYZ]'. [astropy.wcs.wcs]\n"
     ]
    }
   ],
   "source": [
    "hdu_rg = regrid_to_galactic(hdu)\n",
    "hdu_rgex = regrid_to_galactic_ex(hdu)\n",
    "\n",
    "hdu_rg.writeto('./data_processed/hdu_regrid_python.fits', overwrite=True)\n",
    "hdu_rgex.writeto('./data_processed/hdu_regridex_python.fits', overwrite=True)"
   ]
  },
  {
   "cell_type": "code",
   "execution_count": 9,
   "metadata": {},
   "outputs": [
    {
     "name": "stderr",
     "output_type": "stream",
     "text": [
      "WARNING: FITSFixedWarning: 'datfix' made the change 'Set MJD-OBS to 59701.323694 from DATE-OBS'. [astropy.wcs.wcs]\n",
      "WARNING: FITSFixedWarning: 'obsfix' made the change 'Set OBSGEO-L to   -67.754929 from OBSGEO-[XYZ].\n",
      "Set OBSGEO-B to   -23.022886 from OBSGEO-[XYZ].\n",
      "Set OBSGEO-H to     5053.796 from OBSGEO-[XYZ]'. [astropy.wcs.wcs]\n"
     ]
    }
   ],
   "source": [
    "hdu_casa = fits.open('./data_processed/hdu_regrid_casa.fits')[0]\n",
    "hdu_rgex_casa = regrid_to_template(hdu_rgex, hdu_casa)\n",
    "hdu_rgex_casa.writeto('./data_processed/hdu_regridex_python2casa.fits', overwrite=True)"
   ]
  }
 ],
 "metadata": {
  "kernelspec": {
   "display_name": "base",
   "language": "python",
   "name": "python3"
  },
  "language_info": {
   "codemirror_mode": {
    "name": "ipython",
    "version": 3
   },
   "file_extension": ".py",
   "mimetype": "text/x-python",
   "name": "python",
   "nbconvert_exporter": "python",
   "pygments_lexer": "ipython3",
   "version": "3.9.13"
  }
 },
 "nbformat": 4,
 "nbformat_minor": 2
}
