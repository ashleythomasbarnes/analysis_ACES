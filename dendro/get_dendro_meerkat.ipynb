{
 "cells": [
  {
   "cell_type": "code",
   "execution_count": 1,
   "id": "f3e9deae-d79d-463a-a9c1-2487a82e55cd",
   "metadata": {},
   "outputs": [],
   "source": [
    "import numpy as np\n",
    "from spectral_cube import SpectralCube\n",
    "from astropy.io import fits\n",
    "from reproject import reproject_interp\n",
    "from tqdm.auto import tqdm\n",
    "import pyspeckit\n",
    "from astropy.table import Table, hstack, join\n",
    "from astropy import stats\n",
    "import os\n",
    "import astropy.units as u\n",
    "import astropy.constants as c"
   ]
  },
  {
   "cell_type": "code",
   "execution_count": 61,
   "id": "1c2f7123-386c-4b0c-bdd0-41a6dc0ae379",
   "metadata": {},
   "outputs": [],
   "source": [
    "def average_spectrum_for_indexes(hdu_regrid, index_map_hdu):\n",
    "    \n",
    "    index_map = index_map_hdu.data.copy()\n",
    "    index_map[index_map==0] = np.nan\n",
    "    index_map_is_dust = np.ones(index_map.shape) *np.nan\n",
    "    \n",
    "    # Load the data cube\n",
    "    unique_indexes = np.unique(index_map)\n",
    "    \n",
    "    stats_id = np.ones(len(unique_indexes)) *np.nan\n",
    "    stats_min = np.ones(len(unique_indexes)) *np.nan\n",
    "    stats_mean = np.ones(len(unique_indexes)) *np.nan\n",
    "    stats_max = np.ones(len(unique_indexes)) *np.nan\n",
    "    stats_rms = np.ones(len(unique_indexes)) *np.nan \n",
    "    is_dust = np.array([False]*len(unique_indexes))\n",
    "    \n",
    "    i = 0\n",
    "    for index in tqdm(unique_indexes):\n",
    "        \n",
    "        if i > 1: \n",
    "            continue\n",
    "        \n",
    "        # Create a mask for the current index\n",
    "        mask = (index_map == index)\n",
    "\n",
    "        data = hdu_regrid.data.copy()\n",
    "        masked_data = data[mask]\n",
    "        \n",
    "        stats_id[i] = index\n",
    "        stats_min[i] = np.nanmin(masked_data)\n",
    "        stats_mean[i] = np.nanmean(masked_data)\n",
    "        stats_max[i] = np.nanmax(masked_data)\n",
    "        stats_rms[i] = stats.mad_std(data)\n",
    "        is_dust[i] = stats_mean[i]<(stats_rms[i]*3)\n",
    "        \n",
    "        # Add ID to new index array\n",
    "        if is_dust[i] == True: \n",
    "            index_map_is_dust[mask] = index\n",
    "        \n",
    "        i+=1\n",
    "    \n",
    "    return (stats_id, stats_min, stats_mean, stats_max, stats_rms, is_dust), index_map_is_dust"
   ]
  },
  {
   "cell_type": "code",
   "execution_count": 46,
   "id": "540f974d-b87c-4af1-b42d-f6b927000864",
   "metadata": {},
   "outputs": [],
   "source": [
    "# Define files \n",
    "index_map_filename = \"/Users/abarnes/Dropbox/work/scratch/ACES1/data/12m_cont/ACES_leaf_mask_3_1_mp179_pb0.55_pp6_pm2_ar3.0_sm25.fits\"\n",
    "catalog_filename = '/Users/abarnes/Dropbox/work/scratch/ACES1/data/12m_cont/aces_catalog_3_1_mp179_pb0.55_pp6_pm2_ar3.0_sm25.fits'\n",
    "\n",
    "meerkat_filename = '/Users/abarnes/Dropbox/work/Smallprojects/ppVII/review/cover/data/meerkat.fits'"
   ]
  },
  {
   "cell_type": "code",
   "execution_count": 47,
   "id": "4fc71e53-3b24-47d3-b037-c4c0f177acd8",
   "metadata": {},
   "outputs": [],
   "source": [
    "#Load catalog \n",
    "catalog = Table.read(catalog_filename)"
   ]
  },
  {
   "cell_type": "code",
   "execution_count": 48,
   "id": "94e33f2c-c95c-414d-86f2-956c235af4d9",
   "metadata": {},
   "outputs": [],
   "source": [
    "#Open index map \n",
    "index_map_hdu = fits.open(index_map_filename)[0]\n",
    "\n",
    "#Open Meerkat image\n",
    "meerkat_hdu = fits.open(meerkat_filename)[0]"
   ]
  },
  {
   "cell_type": "code",
   "execution_count": 49,
   "id": "fd50f469-c40a-49ad-89cc-a987a46f54a1",
   "metadata": {},
   "outputs": [
    {
     "name": "stdout",
     "output_type": "stream",
     "text": [
      "[INFO] Loading Meerkat regrid...\n"
     ]
    }
   ],
   "source": [
    "if not os.path.exists('./meerkat_hdu_regrid.fits'):\n",
    "    print('[INFO] Making Meerkat regrid...')\n",
    "    meerkat_data_regrid, _ = reproject_interp(meerkat_hdu, index_map_hdu.header, parallel=True)\n",
    "    meerkat_hdu_regrid = fits.PrimaryHDU(meerkat_data_regrid, index_map_hdu.header)\n",
    "    meerkat_hdu_regrid.writeto('./meerkat_hdu_regrid.fits')\n",
    "else:\n",
    "    print('[INFO] Loading Meerkat regrid...')\n",
    "    meerkat_hdu_regrid = fits.open('./meerkat_hdu_regrid.fits')[0]"
   ]
  },
  {
   "cell_type": "code",
   "execution_count": 62,
   "id": "daffa56d-204b-459f-8d5c-74ad0e7d25fa",
   "metadata": {},
   "outputs": [
    {
     "data": {
      "application/vnd.jupyter.widget-view+json": {
       "model_id": "c7e17c3a630f47109030b2e0e47462a1",
       "version_major": 2,
       "version_minor": 0
      },
      "text/plain": [
       "  0%|          | 0/690 [00:00<?, ?it/s]"
      ]
     },
     "metadata": {},
     "output_type": "display_data"
    },
    {
     "name": "stdout",
     "output_type": "stream",
     "text": [
      "True\n",
      "now\n",
      "True\n",
      "now\n"
     ]
    }
   ],
   "source": [
    "#Get Meerkat stats\n",
    "stats_out, index_map_is_dust = average_spectrum_for_indexes(meerkat_hdu_regrid, index_map_hdu)"
   ]
  },
  {
   "cell_type": "code",
   "execution_count": 63,
   "id": "4d2b5cba-4d0f-4224-b680-c0a9b3309bd9",
   "metadata": {},
   "outputs": [],
   "source": [
    "#Make table\n",
    "catalog_meerkat = Table(stats_out, names=['index', 'meerkat_stats_min', 'meerkat_stats_mean', 'meerkat_stats_max', 'meerkat_stats_rms', 'meerkat_is_dust'])\n",
    "catalog_all = join(catalog, catalog_meerkat)\n",
    "\n",
    "#Save catalog\n",
    "catalog_all.write(catalog_filename.replace('.fits', '_meerkat.fits'), overwrite=True)\n",
    "\n",
    "#Save index map\n",
    "index_map_is_dust_hdu = fits.PrimaryHDU(index_map_is_dust, index_map_hdu.header)\n",
    "index_map_is_dust_hdu.writeto(index_map_filename.replace('.fits','_meerkat.fits'), overwrite=True)"
   ]
  },
  {
   "cell_type": "code",
   "execution_count": 64,
   "id": "62b6d131-1470-409b-899f-5a9c23eee77a",
   "metadata": {},
   "outputs": [
    {
     "data": {
      "text/html": [
       "<div><i>Table length=690</i>\n",
       "<table id=\"table140699111980384\" class=\"table-striped table-bordered table-condensed\">\n",
       "<thead><tr><th>index</th><th>meerkat_stats_min</th><th>meerkat_stats_mean</th><th>meerkat_stats_max</th><th>meerkat_stats_rms</th><th>meerkat_is_dust</th></tr></thead>\n",
       "<thead><tr><th>float64</th><th>float64</th><th>float64</th><th>float64</th><th>float64</th><th>bool</th></tr></thead>\n",
       "<tr><td>27.0</td><td>8.434355051040144e-07</td><td>6.409451905871027e-06</td><td>9.176300055921512e-06</td><td>1.6832057695951516e-05</td><td>True</td></tr>\n",
       "<tr><td>31.0</td><td>-5.738839456853758e-06</td><td>3.63014739620887e-06</td><td>1.1898472683025845e-05</td><td>1.6832057695951516e-05</td><td>True</td></tr>\n",
       "<tr><td>nan</td><td>nan</td><td>nan</td><td>nan</td><td>nan</td><td>False</td></tr>\n",
       "<tr><td>nan</td><td>nan</td><td>nan</td><td>nan</td><td>nan</td><td>False</td></tr>\n",
       "<tr><td>nan</td><td>nan</td><td>nan</td><td>nan</td><td>nan</td><td>False</td></tr>\n",
       "<tr><td>nan</td><td>nan</td><td>nan</td><td>nan</td><td>nan</td><td>False</td></tr>\n",
       "<tr><td>nan</td><td>nan</td><td>nan</td><td>nan</td><td>nan</td><td>False</td></tr>\n",
       "<tr><td>nan</td><td>nan</td><td>nan</td><td>nan</td><td>nan</td><td>False</td></tr>\n",
       "<tr><td>nan</td><td>nan</td><td>nan</td><td>nan</td><td>nan</td><td>False</td></tr>\n",
       "<tr><td>nan</td><td>nan</td><td>nan</td><td>nan</td><td>nan</td><td>False</td></tr>\n",
       "<tr><td>nan</td><td>nan</td><td>nan</td><td>nan</td><td>nan</td><td>False</td></tr>\n",
       "<tr><td>nan</td><td>nan</td><td>nan</td><td>nan</td><td>nan</td><td>False</td></tr>\n",
       "<tr><td>nan</td><td>nan</td><td>nan</td><td>nan</td><td>nan</td><td>False</td></tr>\n",
       "<tr><td>nan</td><td>nan</td><td>nan</td><td>nan</td><td>nan</td><td>False</td></tr>\n",
       "<tr><td>nan</td><td>nan</td><td>nan</td><td>nan</td><td>nan</td><td>False</td></tr>\n",
       "<tr><td>nan</td><td>nan</td><td>nan</td><td>nan</td><td>nan</td><td>False</td></tr>\n",
       "<tr><td>nan</td><td>nan</td><td>nan</td><td>nan</td><td>nan</td><td>False</td></tr>\n",
       "<tr><td>nan</td><td>nan</td><td>nan</td><td>nan</td><td>nan</td><td>False</td></tr>\n",
       "<tr><td>nan</td><td>nan</td><td>nan</td><td>nan</td><td>nan</td><td>False</td></tr>\n",
       "<tr><td>...</td><td>...</td><td>...</td><td>...</td><td>...</td><td>...</td></tr>\n",
       "<tr><td>nan</td><td>nan</td><td>nan</td><td>nan</td><td>nan</td><td>False</td></tr>\n",
       "<tr><td>nan</td><td>nan</td><td>nan</td><td>nan</td><td>nan</td><td>False</td></tr>\n",
       "<tr><td>nan</td><td>nan</td><td>nan</td><td>nan</td><td>nan</td><td>False</td></tr>\n",
       "<tr><td>nan</td><td>nan</td><td>nan</td><td>nan</td><td>nan</td><td>False</td></tr>\n",
       "<tr><td>nan</td><td>nan</td><td>nan</td><td>nan</td><td>nan</td><td>False</td></tr>\n",
       "<tr><td>nan</td><td>nan</td><td>nan</td><td>nan</td><td>nan</td><td>False</td></tr>\n",
       "<tr><td>nan</td><td>nan</td><td>nan</td><td>nan</td><td>nan</td><td>False</td></tr>\n",
       "<tr><td>nan</td><td>nan</td><td>nan</td><td>nan</td><td>nan</td><td>False</td></tr>\n",
       "<tr><td>nan</td><td>nan</td><td>nan</td><td>nan</td><td>nan</td><td>False</td></tr>\n",
       "<tr><td>nan</td><td>nan</td><td>nan</td><td>nan</td><td>nan</td><td>False</td></tr>\n",
       "<tr><td>nan</td><td>nan</td><td>nan</td><td>nan</td><td>nan</td><td>False</td></tr>\n",
       "<tr><td>nan</td><td>nan</td><td>nan</td><td>nan</td><td>nan</td><td>False</td></tr>\n",
       "<tr><td>nan</td><td>nan</td><td>nan</td><td>nan</td><td>nan</td><td>False</td></tr>\n",
       "<tr><td>nan</td><td>nan</td><td>nan</td><td>nan</td><td>nan</td><td>False</td></tr>\n",
       "<tr><td>nan</td><td>nan</td><td>nan</td><td>nan</td><td>nan</td><td>False</td></tr>\n",
       "<tr><td>nan</td><td>nan</td><td>nan</td><td>nan</td><td>nan</td><td>False</td></tr>\n",
       "<tr><td>nan</td><td>nan</td><td>nan</td><td>nan</td><td>nan</td><td>False</td></tr>\n",
       "<tr><td>nan</td><td>nan</td><td>nan</td><td>nan</td><td>nan</td><td>False</td></tr>\n",
       "<tr><td>nan</td><td>nan</td><td>nan</td><td>nan</td><td>nan</td><td>False</td></tr>\n",
       "<tr><td>nan</td><td>nan</td><td>nan</td><td>nan</td><td>nan</td><td>False</td></tr>\n",
       "</table></div>"
      ],
      "text/plain": [
       "<Table length=690>\n",
       " index    meerkat_stats_min      meerkat_stats_mean    meerkat_stats_max      meerkat_stats_rms    meerkat_is_dust\n",
       "float64        float64                float64               float64                float64               bool     \n",
       "------- ---------------------- --------------------- ---------------------- ---------------------- ---------------\n",
       "   27.0  8.434355051040144e-07 6.409451905871027e-06  9.176300055921512e-06 1.6832057695951516e-05            True\n",
       "   31.0 -5.738839456853758e-06  3.63014739620887e-06 1.1898472683025845e-05 1.6832057695951516e-05            True\n",
       "    nan                    nan                   nan                    nan                    nan           False\n",
       "    nan                    nan                   nan                    nan                    nan           False\n",
       "    nan                    nan                   nan                    nan                    nan           False\n",
       "    nan                    nan                   nan                    nan                    nan           False\n",
       "    nan                    nan                   nan                    nan                    nan           False\n",
       "    nan                    nan                   nan                    nan                    nan           False\n",
       "    nan                    nan                   nan                    nan                    nan           False\n",
       "    nan                    nan                   nan                    nan                    nan           False\n",
       "    nan                    nan                   nan                    nan                    nan           False\n",
       "    nan                    nan                   nan                    nan                    nan           False\n",
       "    nan                    nan                   nan                    nan                    nan           False\n",
       "    nan                    nan                   nan                    nan                    nan           False\n",
       "    nan                    nan                   nan                    nan                    nan           False\n",
       "    nan                    nan                   nan                    nan                    nan           False\n",
       "    nan                    nan                   nan                    nan                    nan           False\n",
       "    nan                    nan                   nan                    nan                    nan           False\n",
       "    nan                    nan                   nan                    nan                    nan           False\n",
       "    ...                    ...                   ...                    ...                    ...             ...\n",
       "    nan                    nan                   nan                    nan                    nan           False\n",
       "    nan                    nan                   nan                    nan                    nan           False\n",
       "    nan                    nan                   nan                    nan                    nan           False\n",
       "    nan                    nan                   nan                    nan                    nan           False\n",
       "    nan                    nan                   nan                    nan                    nan           False\n",
       "    nan                    nan                   nan                    nan                    nan           False\n",
       "    nan                    nan                   nan                    nan                    nan           False\n",
       "    nan                    nan                   nan                    nan                    nan           False\n",
       "    nan                    nan                   nan                    nan                    nan           False\n",
       "    nan                    nan                   nan                    nan                    nan           False\n",
       "    nan                    nan                   nan                    nan                    nan           False\n",
       "    nan                    nan                   nan                    nan                    nan           False\n",
       "    nan                    nan                   nan                    nan                    nan           False\n",
       "    nan                    nan                   nan                    nan                    nan           False\n",
       "    nan                    nan                   nan                    nan                    nan           False\n",
       "    nan                    nan                   nan                    nan                    nan           False\n",
       "    nan                    nan                   nan                    nan                    nan           False\n",
       "    nan                    nan                   nan                    nan                    nan           False\n",
       "    nan                    nan                   nan                    nan                    nan           False\n",
       "    nan                    nan                   nan                    nan                    nan           False"
      ]
     },
     "execution_count": 64,
     "metadata": {},
     "output_type": "execute_result"
    }
   ],
   "source": [
    "catalog_meerkat"
   ]
  },
  {
   "cell_type": "code",
   "execution_count": null,
   "id": "247f60d1-7520-4059-9119-7e5ec28b21d4",
   "metadata": {},
   "outputs": [],
   "source": []
  }
 ],
 "metadata": {
  "kernelspec": {
   "display_name": "Python 3 (ipykernel)",
   "language": "python",
   "name": "python3"
  },
  "language_info": {
   "codemirror_mode": {
    "name": "ipython",
    "version": 3
   },
   "file_extension": ".py",
   "mimetype": "text/x-python",
   "name": "python",
   "nbconvert_exporter": "python",
   "pygments_lexer": "ipython3",
   "version": "3.9.13"
  }
 },
 "nbformat": 4,
 "nbformat_minor": 5
}
