{
 "cells": [
  {
   "cell_type": "code",
   "execution_count": 11,
   "id": "94f0ec87-4cf5-4bd0-82c8-489ac1e28157",
   "metadata": {},
   "outputs": [],
   "source": [
    "import numpy as np\n",
    "from spectral_cube import SpectralCube\n",
    "from astropy.io import fits\n",
    "from reproject import reproject_interp"
   ]
  },
  {
   "cell_type": "code",
   "execution_count": 27,
   "id": "4f8850f7-3e8b-43a8-a973-20ef767d1069",
   "metadata": {},
   "outputs": [],
   "source": [
    "def get_cube(cube_filename):\n",
    "    cube = SpectralCube.read(cube_filename)\n",
    "    cube.allow_huge_operations = True\n",
    "    cube = cube.to('K')\n",
    "    return(cube)\n",
    "\n",
    "def reproject_index_map(cube, index_map_hdu):\n",
    "        \n",
    "    # Create 2D header\n",
    "    header_2d = cube.hdu.header.copy()\n",
    "    del header_2d['*3*']\n",
    "    header_2d['NAXIS'] = header_2d['WCSAXES'] = 2 \n",
    "    index_map_data, _ = reproject_interp(index_map_hdu, header_2d, order='nearest-neighbor')\n",
    "    \n",
    "    return(index_map_data)\n",
    "\n",
    "def average_spectrum_for_indexes(cube, index_map):\n",
    "    \n",
    "    # Load the data cube\n",
    "    unique_indexes = np.unique(index_map)\n",
    "    spectra_dict = {}\n",
    "\n",
    "    for index in unique_indexes:\n",
    "        # Create a mask for the current index\n",
    "        mask = (index_map == index)\n",
    "\n",
    "        # If the cube is not loaded in memory, the following approach is more memory efficient\n",
    "        masked_cube = cube.with_mask(mask[:, :, np.newaxis])\n",
    "\n",
    "        # Calculate the mean spectrum for the masked region\n",
    "        mean_spectrum = masked_cube.mean(axis=(1, 2))\n",
    "\n",
    "        spectra_dict[index] = mean_spectrum\n",
    "\n",
    "    return spectra_dict\n",
    "\n",
    "def fit_gaussian(spectrum):\n",
    "    sp = pyspeckit.Spectrum(data=spectrum.value, xarr=spectrum.spectral_axis.value)\n",
    "    sp.specfit.fittype = 'gaussian'\n",
    "    sp.specfit(guesses=[spectrum.max().value, spectrum.spectral_axis[spectrum.argmax()].value, 1.0])\n",
    "    return sp.specfit.parinfo"
   ]
  },
  {
   "cell_type": "code",
   "execution_count": 24,
   "id": "933d47b2-35e9-4d46-829e-8c3e2da33774",
   "metadata": {},
   "outputs": [],
   "source": [
    "# Define files \n",
    "index_map_filename = \"/Users/abarnes/Dropbox/work/scratch/ACES1/data/12m_cont/cont_12m.fits\"\n",
    "cube_filename = \"/Users/abarnes/Dropbox/work/scratch/ACES1/data/12m7mtp_lowres/HNCO_7m12mTP_CubeMosaic_downsampled9_downsampledspectrally.fits\"\n",
    "\n",
    "#Load cube\n",
    "cube = get_cube(cube_filename)\n",
    "\n",
    "#Regrid index map \n",
    "index_map_hdu = fits.open(index_map_filename)[0]\n",
    "index_map = reproject_index_map(cube, index_map_hdu)\n",
    "\n",
    "# Get spectrum \n",
    "average_spectra = average_spectrum_for_indexes(cube, index_map)\n",
    "\n",
    "# Fit Gaussians and compile results\n",
    "results = []\n",
    "for index, spectrum in average_spectra.items():\n",
    "    fit = fit_gaussian(spectrum)\n",
    "    amplitude, center, width = fit[0].value, fit[1].value, fit[2].value\n",
    "    results.append((index, amplitude, center, width))\n",
    "\n",
    "# Convert results to Astropy table\n",
    "table = Table(rows=results, names=(\"Index\", \"Amplitude\", \"Center\", \"Width\"))\n",
    "print(table)"
   ]
  },
  {
   "cell_type": "code",
   "execution_count": null,
   "id": "f2510dba-abe8-40b3-91a7-3b2822167497",
   "metadata": {},
   "outputs": [],
   "source": []
  },
  {
   "cell_type": "code",
   "execution_count": null,
   "id": "f66ab2b8-b778-444b-8125-999c762d4b57",
   "metadata": {},
   "outputs": [],
   "source": []
  },
  {
   "cell_type": "code",
   "execution_count": null,
   "id": "da1f43f1-10bb-42bb-845b-bb7c09b12d8e",
   "metadata": {},
   "outputs": [],
   "source": []
  }
 ],
 "metadata": {
  "kernelspec": {
   "display_name": "Python 3 (ipykernel)",
   "language": "python",
   "name": "python3"
  },
  "language_info": {
   "codemirror_mode": {
    "name": "ipython",
    "version": 3
   },
   "file_extension": ".py",
   "mimetype": "text/x-python",
   "name": "python",
   "nbconvert_exporter": "python",
   "pygments_lexer": "ipython3",
   "version": "3.9.13"
  }
 },
 "nbformat": 4,
 "nbformat_minor": 5
}
