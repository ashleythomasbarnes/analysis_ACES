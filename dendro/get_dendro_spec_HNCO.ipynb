{
 "cells": [
  {
   "cell_type": "code",
   "execution_count": 1,
   "id": "94f0ec87-4cf5-4bd0-82c8-489ac1e28157",
   "metadata": {},
   "outputs": [],
   "source": [
    "import numpy as np\n",
    "from spectral_cube import SpectralCube\n",
    "from astropy.io import fits\n",
    "from reproject import reproject_interp\n",
    "from tqdm.auto import tqdm\n",
    "import pyspeckit\n",
    "from astropy.table import Table, hstack, join\n",
    "from astropy import stats\n",
    "import astropy.units as u\n",
    "import astropy.constants as c\n",
    "\n",
    "import warnings\n",
    "warnings.filterwarnings('ignore')"
   ]
  },
  {
   "cell_type": "code",
   "execution_count": 2,
   "id": "4f8850f7-3e8b-43a8-a973-20ef767d1069",
   "metadata": {},
   "outputs": [],
   "source": [
    "def get_cube(cube_filename):\n",
    "    \n",
    "    print('[INFO] Loading %s' %cube_filename)\n",
    "    \n",
    "    hdu = fits.open(cube_filename)[0]\n",
    "    hdu.header['BUNIT'] = 'Jy/beam'\n",
    "    \n",
    "    cube = SpectralCube.read(hdu)\n",
    "    cube.allow_huge_operations = True\n",
    "    cube = cube.to('K')\n",
    "    cube = cube.with_spectral_unit(u.km/u.s)\n",
    "    \n",
    "    return(cube)\n",
    "\n",
    "def reproject_index_map(cube, index_map_hdu):\n",
    "        \n",
    "    # Create 2D header\n",
    "    header_2d = cube.hdu.header.copy()\n",
    "    del header_2d['*3*']\n",
    "    header_2d['NAXIS'] = header_2d['WCSAXES'] = 2 \n",
    "    index_map_data, _ = reproject_interp(index_map_hdu, header_2d, order='nearest-neighbor')\n",
    "    \n",
    "    return(index_map_data)\n",
    "\n",
    "def get_spec_stats(spec):\n",
    "\n",
    "    spec_data = np.array(spec)\n",
    "    spec_axis = np.array(spec.spectral_axis)\n",
    "    spec_rms = stats.mad_std(spec_data, ignore_nan=True)\n",
    "    spec_sum = np.nansum(spec_data[spec_data>(spec_rms*5)])\n",
    "    if spec_sum == 0:\n",
    "        spec_sum = np.nan\n",
    "    \n",
    "    spec_max = np.nanmax(spec_data)\n",
    "    spec_delta = np.abs(spec_axis[1]-spec_axis[0])\n",
    "    spec_integratedint = spec_sum*spec_delta\n",
    "    spec_effwidth = spec_integratedint/(spec_max*np.sqrt(2*np.pi))\n",
    "    \n",
    "    return(spec_rms,spec_sum,spec_max,spec_integratedint,spec_effwidth)\n",
    "\n",
    "def average_spectrum_for_indexes(cube, index_map_hdu):\n",
    "    \n",
    "    # Regrid\n",
    "    print('[INFO] Regridding index map...')\n",
    "    index_map = reproject_index_map(cube, index_map_hdu)\n",
    "    index_map[index_map==0] = np.nan\n",
    "    \n",
    "    # Load the data cube\n",
    "    unique_indexes = np.unique(index_map)\n",
    "    spectra_dict = {}\n",
    "    spec_id = np.ones(len(unique_indexes)) *np.nan\n",
    "    spec_rms = np.ones(len(unique_indexes)) *np.nan\n",
    "    spec_sum = np.ones(len(unique_indexes)) *np.nan\n",
    "    spec_max = np.ones(len(unique_indexes)) *np.nan\n",
    "    spec_integratedint = np.ones(len(unique_indexes)) *np.nan\n",
    "    spec_effwidth = np.ones(len(unique_indexes)) *np.nan\n",
    "    \n",
    "    i = 0\n",
    "    for index in tqdm(unique_indexes):\n",
    "        \n",
    "        if i > 20: \n",
    "            continue\n",
    "        \n",
    "        # Create a mask for the current index\n",
    "        mask = (index_map == index)\n",
    "\n",
    "        # If the cube is not loaded in memory, the following approach is more memory efficient\n",
    "        # masked_cube = cube.with_mask(mask[:, :, np.newaxis])\n",
    "        masked_cube = cube.with_mask(mask)\n",
    "\n",
    "        # Calculate the mean spectrum for the masked region\n",
    "        mean_spectrum = masked_cube.mean(axis=(1, 2))\n",
    "\n",
    "        spectra_dict[index] = mean_spectrum\n",
    "        \n",
    "        spec_stats = get_spec_stats(mean_spectrum)\n",
    "        spec_id[i] = index\n",
    "        spec_rms[i] = spec_stats[0]\n",
    "        spec_sum[i] = spec_stats[1]\n",
    "        spec_max[i] = spec_stats[2]\n",
    "        spec_integratedint[i] = spec_stats[3]\n",
    "        spec_effwidth[i] = spec_stats[4]\n",
    "\n",
    "        i+=1\n",
    "        \n",
    "    return spectra_dict, (spec_id, spec_rms, spec_sum, spec_max, spec_integratedint, spec_effwidth)\n",
    "\n",
    "def get_virial(velo_disp, radius, mass):\n",
    "    \"\"\"Takes velocity dispersion in kms, radius in parsecs, and mass in stellar masses. Returns the virial parameter (unitless).\"\"\"\n",
    "    \n",
    "    velo_disp_ms = velo_disp.to(u.m/u.s)\n",
    "    radius_m = radius.to(u.m)\n",
    "    mass_kg = mass.to(u.kg)\n",
    "    virial = (5. * velo_disp_ms**2 * radius_m) / (c.G * mass_kg)\n",
    "    return virial"
   ]
  },
  {
   "cell_type": "code",
   "execution_count": 3,
   "id": "933d47b2-35e9-4d46-829e-8c3e2da33774",
   "metadata": {},
   "outputs": [],
   "source": [
    "# Define files \n",
    "index_map_filename = \"/Users/abarnes/Dropbox/work/scratch/ACES1/data/12m_cont/ACES_leaf_mask_3_1_mp179_pb0.55_pp6_pm2_ar3.0_sm25.fits\"\n",
    "catalog_filename = '/Users/abarnes/Dropbox/work/scratch/ACES1/data/12m_cont/aces_catalog_3_1_mp179_pb0.55_pp6_pm2_ar3.0_sm25.fits'\n",
    "\n",
    "# cube_hnco_filename = \"/Users/abarnes/Dropbox/work/scratch/ACES1/data/12m7mtp_dustridge/Dust_ridge_hnco43.TP_7M_12M_weighted_mosaic.-40_to_90_kms.0.25_kms_resolution.rebin.fits\"\n",
    "cube_hnco_filename = \"/Users/abarnes/Dropbox/work/scratch/ACES1/data/12m7mtp_lowres/HNCO_7m12mTP_CubeMosaic_downsampled9_downsampledspectrally.fits\"\n",
    "cube_cs_filename = \"/Users/abarnes/Dropbox/work/scratch/ACES1/data/12m_lowres/CS21_CubeMosaic_downsampled9_float32.fits\"\n",
    "cube_hc3n_filename = \"/Users/abarnes/Dropbox/work/scratch/ACES1/data/12m_lowres/CS21_CubeMosaic_downsampled9_float32.fits\"\n",
    "cube_sio_filename = \"/Users/abarnes/Dropbox/work/scratch/ACES1/data/12m_lowres/SiO21_CubeMosaic_downsampled9_float32.fits\""
   ]
  },
  {
   "cell_type": "code",
   "execution_count": 4,
   "id": "9b7c1da0-f292-4a74-9605-3ea4c9376859",
   "metadata": {},
   "outputs": [],
   "source": [
    "#Load catalog \n",
    "catalog = Table.read(catalog_filename)"
   ]
  },
  {
   "cell_type": "code",
   "execution_count": 5,
   "id": "1c81e410-fbf7-45e5-b138-b17f5714e61a",
   "metadata": {},
   "outputs": [
    {
     "name": "stdout",
     "output_type": "stream",
     "text": [
      "[INFO] Loading /Users/abarnes/Dropbox/work/scratch/ACES1/data/12m7mtp_lowres/HNCO_7m12mTP_CubeMosaic_downsampled9_downsampledspectrally.fits\n"
     ]
    }
   ],
   "source": [
    "#Load cube\n",
    "cube_hnco = get_cube(cube_hnco_filename)\n",
    "# cube_cs = get_cube(cube_cs_filename)\n",
    "# cube_hc3n = get_cube(cube_hc3n_filename)\n",
    "# cube_sio = get_cube(cube_sio_filename)\n",
    "\n",
    "#Open index map \n",
    "index_map_hdu = fits.open(index_map_filename)[0]"
   ]
  },
  {
   "cell_type": "code",
   "execution_count": 6,
   "id": "c7a5618d-4a84-4836-88bb-d4a4985c31dd",
   "metadata": {
    "tags": []
   },
   "outputs": [
    {
     "name": "stdout",
     "output_type": "stream",
     "text": [
      "[INFO] Regridding index map...\n"
     ]
    },
    {
     "data": {
      "application/vnd.jupyter.widget-view+json": {
       "model_id": "e1ea4487787d4affb36e4bfe3c1ad024",
       "version_major": 2,
       "version_minor": 0
      },
      "text/plain": [
       "  0%|          | 0/657 [00:00<?, ?it/s]"
      ]
     },
     "metadata": {},
     "output_type": "display_data"
    }
   ],
   "source": [
    "# Get spectrum \n",
    "average_spectra_hnco, spec_stats_hnco = average_spectrum_for_indexes(cube_hnco, index_map_hdu)\n",
    "# average_spectra_cs, spec_stats_cs = average_spectrum_for_indexes(cube_cs, index_map_hdu)\n",
    "# average_spectra_hc3n, spec_stats_hc3n = average_spectrum_for_indexes(cube_hc3n, index_map_hdu)\n",
    "# average_spectra_sio, spec_stats_sio = average_spectrum_for_indexes(cube_sio, index_map_hdu)"
   ]
  },
  {
   "cell_type": "code",
   "execution_count": 7,
   "id": "fd730588-822d-41b3-bf5a-82492e7ea563",
   "metadata": {
    "tags": []
   },
   "outputs": [],
   "source": [
    "catalog_spec = Table(spec_stats_hnco, names=['index', 'spec_rms_hnco', 'spec_sum_hnco', 'spec_max_hnco', 'spec_integratedint_hnco', 'spec_effwidth_hnco'])\n",
    "# catalog_spec = Table(spec_stats_cs, names=['index', 'spec_rms_cs', 'spec_sum_cs', 'spec_max_cs', 'spec_integratedint_cs', 'spec_effwidth_cs'])\n",
    "# catalog_spec = Table(spec_stats_hc3n, names=['index', 'spec_rms_hc3n', 'spec_sum_hc3n', 'spec_max_hc3n', 'spec_integratedint_hc3n', 'spec_effwidth_hc3n'])\n",
    "# catalog_spec = Table(spec_stats_sio, names=['index', 'spec_rms_sio', 'spec_sum_sio', 'spec_max_sio', 'spec_integratedint_sio', 'spec_effwidth_sio'])\n",
    "\n",
    "catalog_all = join(catalog, catalog_spec)\n",
    "\n",
    "catalog_all['mass'] = catalog_all['mass'] *u.Msun\n",
    "catalog_all['eff_radius'] = catalog_all['eff_radius'] *u.arcsec\n",
    "catalog_all['eff_radius_pc'] = catalog_all['eff_radius'] *u.pc/u.arcsec * 0.04\n",
    "catalog_all['spec_effwidth_hnco'] = catalog_all['spec_effwidth_hnco'] *u.km/u.s"
   ]
  },
  {
   "cell_type": "code",
   "execution_count": 8,
   "id": "da1f43f1-10bb-42bb-845b-bb7c09b12d8e",
   "metadata": {},
   "outputs": [],
   "source": [
    "virial = get_virial(catalog_all['spec_effwidth_hnco'], catalog_all['eff_radius_pc'], catalog_all['mass'])\n",
    "catalog_all.add_column(virial, name='spec_virial_hnco')"
   ]
  },
  {
   "cell_type": "code",
   "execution_count": 12,
   "id": "b11b3602-3809-4903-8437-b50127f79aa6",
   "metadata": {},
   "outputs": [],
   "source": [
    "catalog_all.write(catalog_filename.replace('.fits', '_spec.fits'), overwrite=True)\n",
    "catalog_all.write(catalog_filename.replace('.fits', '_spec.csv'), overwrite=True)"
   ]
  },
  {
   "cell_type": "code",
   "execution_count": 13,
   "id": "48fe9995-d92c-4b1a-8629-4f1056a398b3",
   "metadata": {},
   "outputs": [
    {
     "data": {
      "text/html": [
       "<div><i>Table length=21</i>\n",
       "<table id=\"table140525031190480\" class=\"table-striped table-bordered table-condensed\">\n",
       "<thead><tr><th>index</th><th>area_ellipse</th><th>area_exact</th><th>flux_integrated</th><th>major_sigma</th><th>minor_sigma</th><th>position_angle</th><th>radius</th><th>RA</th><th>Dec</th><th>is_leaf</th><th>peak_cont_flux</th><th>min_cont_flux</th><th>mean_cont_flux</th><th>npix</th><th>noise</th><th>axis_ratio</th><th>mass</th><th>eff_radius</th><th>spec_rms_hnco</th><th>spec_sum_hnco</th><th>spec_max_hnco</th><th>spec_integratedint_hnco</th><th>spec_effwidth_hnco</th><th>eff_radius_pc</th><th>spec_virial_hnco</th></tr></thead>\n",
       "<thead><tr><th></th><th>arcsec2</th><th>arcsec2</th><th>Jy</th><th>arcsec</th><th>arcsec</th><th>deg</th><th>arcsec</th><th></th><th></th><th></th><th></th><th></th><th></th><th></th><th></th><th>arcsec</th><th>solMass</th><th>arcsec</th><th></th><th></th><th></th><th></th><th>km / s</th><th>pc</th><th></th></tr></thead>\n",
       "<thead><tr><th>float64</th><th>float64</th><th>float64</th><th>float64</th><th>float64</th><th>float64</th><th>float64</th><th>float64</th><th>float64</th><th>float64</th><th>bool</th><th>float64</th><th>float64</th><th>float64</th><th>int64</th><th>float64</th><th>float64</th><th>float64</th><th>float64</th><th>float64</th><th>float64</th><th>float64</th><th>float64</th><th>float64</th><th>float64</th><th>float64</th></tr></thead>\n",
       "<tr><td>27.0</td><td>3.592655373951185</td><td>12.31999999443136</td><td>0.0008484039006574256</td><td>0.9924588803539179</td><td>0.8311991715820239</td><td>82.55530816016204</td><td>0.9082571217333777</td><td>0.772974623023587</td><td>-0.2555250521991908</td><td>True</td><td>0.0007921592636825711</td><td>0.0003011137690824358</td><td>0.0004938673553116224</td><td>308</td><td>4.466775689395059e-05</td><td>1.1940085051636515</td><td>23.493258668286963</td><td>1.9802974009001144</td><td>0.1556073120558543</td><td>11.641776468591809</td><td>1.306255123819694</td><td>12.118270304829453</td><td>3.7010307571409347</td><td>0.07921189603600458</td><td>53.6909950118094</td></tr>\n",
       "<tr><td>31.0</td><td>3.631037675379646</td><td>13.27999999399744</td><td>0.001107473757901851</td><td>0.941231995184215</td><td>0.8858009420535387</td><td>178.87715452647478</td><td>0.9130959358277253</td><td>0.7650027638207892</td><td>-0.2533741552120911</td><td>True</td><td>0.0010912413171798798</td><td>0.00030081432886544204</td><td>0.0005980723720202369</td><td>332</td><td>5.521328280217362e-05</td><td>1.0625773246550985</td><td>30.667194531480344</td><td>2.0560046903181095</td><td>0.10708762688763951</td><td>11.178669506787928</td><td>1.1275418664028318</td><td>11.636208537166379</td><td>4.117076010537497</td><td>0.08224018761272438</td><td>52.84412730490236</td></tr>\n",
       "<tr><td>35.0</td><td>8.410250930288202</td><td>23.47999998938704</td><td>0.0012175822391321553</td><td>1.5135244681527296</td><td>1.2759144964783609</td><td>-163.6974313121729</td><td>1.38965024725316</td><td>0.769128835676044</td><td>-0.25019151770174475</td><td>True</td><td>0.00048350893659109375</td><td>0.0003000555066406326</td><td>0.00037189349616032294</td><td>587</td><td>5.777531902882833e-05</td><td>1.1862271902468338</td><td>33.71622227535476</td><td>2.733846397334202</td><td>0.09431064125894813</td><td>0.0</td><td>0.20003983551117197</td><td>0.0</td><td>0.0</td><td>0.10935385589336809</td><td>0.0</td></tr>\n",
       "<tr><td>38.0</td><td>6.175900015872269</td><td>21.479999990291038</td><td>0.0016208228378862574</td><td>1.6969353660440354</td><td>0.8356742491477266</td><td>66.06984175930899</td><td>1.1908338204262894</td><td>359.62425586100045</td><td>-0.24750182048034786</td><td>True</td><td>0.0010971337917853891</td><td>0.00030017935259285826</td><td>0.0005411524659695</td><td>537</td><td>0.00012523755168656483</td><td>2.0306182316550707</td><td>44.882408197819395</td><td>2.614822432238443</td><td>0.11854961290909695</td><td>7.928176980774759</td><td>1.0884780245748646</td><td>8.25267448973589</td><td>3.024719568070179</td><td>0.10459289728953772</td><td>24.785928330654148</td></tr>\n",
       "<tr><td>43.0</td><td>6.574354399239576</td><td>22.639999989766718</td><td>0.0017337615611818721</td><td>1.6343789351892</td><td>0.9236393345687839</td><td>81.23070645877958</td><td>1.2286483110033521</td><td>359.61777089070296</td><td>-0.24460326882943767</td><td>True</td><td>0.0011643210857816477</td><td>0.00030010042232718535</td><td>0.0005492009995818385</td><td>566</td><td>0.00012316357576096438</td><td>1.7694990609643497</td><td>48.009808529187424</td><td>2.684499174882285</td><td>0.06152637003345657</td><td>13.061063207307317</td><td>1.8143322141801983</td><td>13.595647953010223</td><td>2.9894628753862125</td><td>0.1073799669952914</td><td>23.237453662516877</td></tr>\n",
       "<tr><td>44.0</td><td>20.629694291255163</td><td>85.35999996141727</td><td>0.031893393423512474</td><td>2.5715588687735953</td><td>1.842037154749197</td><td>178.0321080928004</td><td>2.176443654659081</td><td>359.61441756500466</td><td>-0.2432144340750093</td><td>True</td><td>0.007809521827533002</td><td>0.0008649312683452839</td><td>0.0026795674601131276</td><td>2134</td><td>0.0001787580925938586</td><td>1.3960407161948514</td><td>883.1639516595884</td><td>5.212574399696096</td><td>0.13038298039589755</td><td>3.318081592585944</td><td>1.2168848853233005</td><td>3.4538895108419143</td><td>1.1323195598273723</td><td>0.20850297598784384</td><td>0.35189885883180716</td></tr>\n",
       "<tr><td>56.0</td><td>3.18370792726967</td><td>10.759999995136479</td><td>0.0007221915326564571</td><td>0.9069209180657494</td><td>0.8060572047574736</td><td>97.48823513033136</td><td>0.8550030059316515</td><td>359.6017385976774</td><td>-0.23905261529963517</td><td>True</td><td>0.000740061168164833</td><td>0.000300525163773165</td><td>0.00048134724708139644</td><td>269</td><td>0.00011370125700396438</td><td>1.1251322024205759</td><td>19.998296178974854</td><td>1.8506794357179965</td><td>0.10227488552551081</td><td>9.295775623945989</td><td>1.139782055992125</td><td>9.676248466712586</td><td>3.386844536415352</td><td>0.07402717742871986</td><td>49.36255539021054</td></tr>\n",
       "<tr><td>72.0</td><td>11.375216235962009</td><td>34.7999999842704</td><td>0.0025781693120820485</td><td>2.2220339600696355</td><td>1.1754686024375265</td><td>120.13286067318177</td><td>1.6161470086634375</td><td>359.609776049537</td><td>-0.22902050216646566</td><td>True</td><td>0.0010261727601954497</td><td>0.0003002489299465511</td><td>0.0005313131467743138</td><td>870</td><td>0.00012115465427329978</td><td>1.890338844833358</td><td>71.39240931406353</td><td>3.328240381070609</td><td>0.10248764788735015</td><td>2.3352241757050702</td><td>0.3491376240140766</td><td>2.4308040838882063</td><td>2.7775595001367654</td><td>0.13312961524282435</td><td>16.724698444798626</td></tr>\n",
       "<tr><td>78.0</td><td>6.201623076798026</td><td>25.5999999884288</td><td>0.003269749611217763</td><td>1.203677581325078</td><td>1.1830340908532135</td><td>77.22991791712377</td><td>1.1933111970912318</td><td>359.4893289687131</td><td>-0.22538475057890972</td><td>True</td><td>0.002047579782721059</td><td>0.0003001677624809821</td><td>0.0009159945779248252</td><td>640</td><td>5.2431326811945846e-05</td><td>1.0174496158914375</td><td>90.54304599182574</td><td>2.8545985851992945</td><td>0.15713473634874672</td><td>56.821067778782044</td><td>4.012639767830621</td><td>59.14673419559361</td><td>5.880451369559256</td><td>0.11418394340797178</td><td>50.69675687688548</td></tr>\n",
       "<tr><td>116.0</td><td>4.577835304127718</td><td>25.27999998857344</td><td>0.008572161205621612</td><td>1.0389984068044094</td><td>1.0116897427799485</td><td>65.06358162246329</td><td>1.025253154556829</td><td>0.8242349228871264</td><td>-0.19022413970134436</td><td>True</td><td>0.008501514839027191</td><td>0.0003012159283299144</td><td>0.0024318211512172464</td><td>632</td><td>3.725056041242454e-05</td><td>1.0269931213787158</td><td>237.3727895332261</td><td>2.8367012389550372</td><td>0.06926041361423894</td><td>7.92865794386233</td><td>0.4063290513602057</td><td>8.253175138474298</td><td>8.103138329079378</td><td>0.11346804955820149</td><td>36.488673664201755</td></tr>\n",
       "<tr><td>139.0</td><td>30.868611156131767</td><td>89.15999995969968</td><td>0.006015602912473941</td><td>4.453075559410963</td><td>1.5916922078396063</td><td>-149.61959365514227</td><td>2.6623158469339105</td><td>359.4690537883196</td><td>-0.17046743453367216</td><td>True</td><td>0.0008112236824478438</td><td>0.00030763270683670214</td><td>0.000483868636202505</td><td>2229</td><td>4.86963723975634e-05</td><td>2.7976989128162497</td><td>166.5788136510659</td><td>5.327336054663605</td><td>0.2021426417676446</td><td>0.0</td><td>0.5091010863421482</td><td>0.0</td><td>0.0</td><td>0.21309344218654422</td><td>0.0</td></tr>\n",
       "<tr><td>140.0</td><td>4.252314432384269</td><td>12.27999999444944</td><td>0.0006003812740829503</td><td>1.1294355740094164</td><td>0.8645019398642692</td><td>55.93610632669823</td><td>0.9881291639673706</td><td>359.4670562744907</td><td>-0.17146027769032682</td><td>True</td><td>0.00041749990219610417</td><td>0.0003075043620667736</td><td>0.0003506284426591417</td><td>307</td><td>3.785366298543853e-05</td><td>1.3064581141214595</td><td>16.625233053144367</td><td>1.9770800187574988</td><td>0.1953823061144364</td><td>51.76155158483456</td><td>2.466035472689865</td><td>53.88013377465854</td><td>8.716445353055068</td><td>0.07908320075029995</td><td>420.14987175701197</td></tr>\n",
       "<tr><td>154.0</td><td>7.185761409445917</td><td>27.11999998774176</td><td>0.002817238152843739</td><td>1.3246528818681356</td><td>1.245583276966226</td><td>-158.16944034100115</td><td>1.284509819907994</td><td>0.7440589881347996</td><td>-0.16652625581893196</td><td>True</td><td>0.001351209843712356</td><td>0.0003003191297911705</td><td>0.0007449930950228607</td><td>678</td><td>5.628437818119406e-05</td><td>1.0634799827230288</td><td>78.0124945248808</td><td>2.9381225483976134</td><td>0.06600427206020662</td><td>30.66231547928155</td><td>4.0226356641339285</td><td>31.917313320037984</td><td>3.16537882704931</td><td>0.11752490193590454</td><td>17.5479356873439</td></tr>\n",
       "<tr><td>299.0</td><td>13.101206580115019</td><td>43.039999980545915</td><td>0.004594466063720962</td><td>2.750133260862198</td><td>1.0938546578014965</td><td>63.277377217254354</td><td>1.734429611419539</td><td>359.4575399566461</td><td>-0.1332196149396131</td><td>True</td><td>0.0015177783797280676</td><td>0.00030052441570656144</td><td>0.0007655633898968048</td><td>1076</td><td>0.00013904707382292404</td><td>2.5141669793586683</td><td>127.22593518726302</td><td>3.701358871435993</td><td>0.0</td><td>0.0</td><td>0.0</td><td>0.0</td><td>nan</td><td>0.14805435485743973</td><td>nan</td></tr>\n",
       "<tr><td>317.0</td><td>2.5570530757809236</td><td>7.759999996492479</td><td>0.0008065832411392738</td><td>0.8283414371615027</td><td>0.708814216995575</td><td>79.95104620844123</td><td>0.7662507338897756</td><td>0.16016545652152234</td><td>-0.1332191556015889</td><td>True</td><td>0.0009028547954727658</td><td>0.0006332418310787391</td><td>0.0007454282446343983</td><td>194</td><td>0.00012139684338105175</td><td>1.1686298289452535</td><td>22.3351975478973</td><td>1.571650315963999</td><td>0.0</td><td>0.0</td><td>0.0</td><td>0.0</td><td>nan</td><td>0.06286601263855995</td><td>nan</td></tr>\n",
       "<tr><td>326.0</td><td>5.31102299006891</td><td>15.11999999316576</td><td>0.0015048782332825316</td><td>1.893935437565078</td><td>0.6438950337807221</td><td>105.77523155007546</td><td>1.1043077571716466</td><td>0.16025137121934205</td><td>-0.13167702981950144</td><td>True</td><td>0.0008563613929714581</td><td>0.0006330533451042442</td><td>0.000713785860735623</td><td>378</td><td>0.0001342462584747241</td><td>2.941372953980658</td><td>41.67177163068807</td><td>2.193819836933632</td><td>0.21966047003337502</td><td>35.9085779469505</td><td>1.966133433874903</td><td>37.37830347431674</td><td>7.584320254496771</td><td>0.08775279347734528</td><td>140.81899092620225</td></tr>\n",
       "<tr><td>333.0</td><td>2.7010327868777635</td><td>8.71999999605856</td><td>0.0006217750924819088</td><td>0.869195151583723</td><td>0.7135339228494272</td><td>155.8340494881123</td><td>0.787527920921688</td><td>0.7400211624593847</td><td>-0.13138645397039905</td><td>True</td><td>0.0007772474030930805</td><td>0.00030115256757636065</td><td>0.0005113699542417748</td><td>218</td><td>4.168623419522772e-05</td><td>1.2181553304609234</td><td>17.21765195781892</td><td>1.6660318743253553</td><td>0.1536889137763923</td><td>76.57902097891792</td><td>7.247274337679621</td><td>79.71337350492733</td><td>4.387999339173447</td><td>0.06664127497301421</td><td>86.63859389233396</td></tr>\n",
       "<tr><td>338.0</td><td>8.001684137596092</td><td>21.83999999012832</td><td>0.001070139425318552</td><td>1.9481035950769539</td><td>0.9431296977924474</td><td>132.15997559611228</td><td>1.3554756932137544</td><td>359.6298945775954</td><td>-0.1297279268584042</td><td>True</td><td>0.00044983558690036895</td><td>0.0003001002673969361</td><td>0.0003514035153363941</td><td>546</td><td>4.084303957777885e-05</td><td>2.0655733772744256</td><td>29.633364852116976</td><td>2.63664330373142</td><td>0.0</td><td>0.0</td><td>0.0</td><td>0.0</td><td>nan</td><td>0.1054657321492568</td><td>nan</td></tr>\n",
       "<tr><td>339.0</td><td>6.9678589868752585</td><td>18.83999999148432</td><td>0.0018913287058073933</td><td>2.0498210703051747</td><td>0.7805225673055143</td><td>96.13291634393555</td><td>1.2648840280087073</td><td>0.16075575978492807</td><td>-0.12924716237608744</td><td>True</td><td>0.0008263672121886999</td><td>0.0006331953456988719</td><td>0.0007199535659747549</td><td>471</td><td>0.00013585094012943212</td><td>2.626216276335836</td><td>52.37302006492207</td><td>2.448868770063433</td><td>0.0</td><td>0.0</td><td>0.0</td><td>0.0</td><td>nan</td><td>0.09795475080253732</td><td>nan</td></tr>\n",
       "<tr><td>349.0</td><td>6.677152936920163</td><td>19.47999999119504</td><td>0.001966138741468526</td><td>2.046138941641994</td><td>0.7493043729630772</td><td>99.05247559479913</td><td>1.2382168051930118</td><td>0.16113371322791567</td><td>-0.1268262232627881</td><td>True</td><td>0.0009111050171902973</td><td>0.0006094542164841062</td><td>0.0007238416679654113</td><td>487</td><td>0.0001426097991165003</td><td>2.7307180038876138</td><td>54.44459413171839</td><td>2.4901157764364164</td><td>0.0959754570243544</td><td>0.0</td><td>0.28005860440436836</td><td>0.0</td><td>0.0</td><td>0.09960463105745665</td><td>0.0</td></tr>\n",
       "<tr><td>411.0</td><td>4.379486341100551</td><td>13.5999999938528</td><td>0.0007297580457045996</td><td>1.2540159120909051</td><td>0.8019036556199943</td><td>-144.36366978274052</td><td>1.0027960630713197</td><td>0.31916604824554284</td><td>-0.118055443432899</td><td>True</td><td>0.0004916762744118826</td><td>0.00030018690714643526</td><td>0.00038482063768847306</td><td>340</td><td>7.285281928064852e-05</td><td>1.5637987223307503</td><td>20.207821439430674</td><td>2.0806283786738176</td><td>0.0845786835680626</td><td>29.916557007224608</td><td>2.9987082772568963</td><td>31.14103121473522</td><td>4.142941846354987</td><td>0.0832251351469527</td><td>82.17914213578486</td></tr>\n",
       "</table></div>"
      ],
      "text/plain": [
       "<Table length=21>\n",
       " index     area_ellipse        area_exact        flux_integrated    ... spec_effwidth_hnco    eff_radius_pc      spec_virial_hnco \n",
       "             arcsec2            arcsec2                 Jy          ...       km / s                pc                            \n",
       "float64      float64            float64              float64        ...      float64             float64             float64      \n",
       "------- ------------------ ------------------ --------------------- ... ------------------ ------------------- -------------------\n",
       "   27.0  3.592655373951185  12.31999999443136 0.0008484039006574256 ... 3.7010307571409347 0.07921189603600458    53.6909950118094\n",
       "   31.0  3.631037675379646  13.27999999399744  0.001107473757901851 ...  4.117076010537497 0.08224018761272438   52.84412730490236\n",
       "   35.0  8.410250930288202  23.47999998938704 0.0012175822391321553 ...                0.0 0.10935385589336809                 0.0\n",
       "   38.0  6.175900015872269 21.479999990291038 0.0016208228378862574 ...  3.024719568070179 0.10459289728953772  24.785928330654148\n",
       "   43.0  6.574354399239576 22.639999989766718 0.0017337615611818721 ... 2.9894628753862125  0.1073799669952914  23.237453662516877\n",
       "   44.0 20.629694291255163  85.35999996141727  0.031893393423512474 ... 1.1323195598273723 0.20850297598784384 0.35189885883180716\n",
       "   56.0   3.18370792726967 10.759999995136479 0.0007221915326564571 ...  3.386844536415352 0.07402717742871986   49.36255539021054\n",
       "   72.0 11.375216235962009   34.7999999842704 0.0025781693120820485 ... 2.7775595001367654 0.13312961524282435  16.724698444798626\n",
       "   78.0  6.201623076798026   25.5999999884288  0.003269749611217763 ...  5.880451369559256 0.11418394340797178   50.69675687688548\n",
       "  116.0  4.577835304127718  25.27999998857344  0.008572161205621612 ...  8.103138329079378 0.11346804955820149  36.488673664201755\n",
       "  139.0 30.868611156131767  89.15999995969968  0.006015602912473941 ...                0.0 0.21309344218654422                 0.0\n",
       "  140.0  4.252314432384269  12.27999999444944 0.0006003812740829503 ...  8.716445353055068 0.07908320075029995  420.14987175701197\n",
       "  154.0  7.185761409445917  27.11999998774176  0.002817238152843739 ...   3.16537882704931 0.11752490193590454    17.5479356873439\n",
       "  299.0 13.101206580115019 43.039999980545915  0.004594466063720962 ...                nan 0.14805435485743973                 nan\n",
       "  317.0 2.5570530757809236  7.759999996492479 0.0008065832411392738 ...                nan 0.06286601263855995                 nan\n",
       "  326.0   5.31102299006891  15.11999999316576 0.0015048782332825316 ...  7.584320254496771 0.08775279347734528  140.81899092620225\n",
       "  333.0 2.7010327868777635   8.71999999605856 0.0006217750924819088 ...  4.387999339173447 0.06664127497301421   86.63859389233396\n",
       "  338.0  8.001684137596092  21.83999999012832  0.001070139425318552 ...                nan  0.1054657321492568                 nan\n",
       "  339.0 6.9678589868752585  18.83999999148432 0.0018913287058073933 ...                nan 0.09795475080253732                 nan\n",
       "  349.0  6.677152936920163  19.47999999119504  0.001966138741468526 ...                0.0 0.09960463105745665                 0.0\n",
       "  411.0  4.379486341100551   13.5999999938528 0.0007297580457045996 ...  4.142941846354987  0.0832251351469527   82.17914213578486"
      ]
     },
     "execution_count": 13,
     "metadata": {},
     "output_type": "execute_result"
    }
   ],
   "source": [
    "catalog_all"
   ]
  },
  {
   "cell_type": "code",
   "execution_count": 15,
   "id": "98f0a84d-0e08-4e4c-b64d-6a47a3576a80",
   "metadata": {},
   "outputs": [
    {
     "data": {
      "text/plain": [
       "<matplotlib.collections.PathCollection at 0x7fce68121fa0>"
      ]
     },
     "execution_count": 15,
     "metadata": {},
     "output_type": "execute_result"
    },
    {
     "data": {
      "image/png": "[encoded data removed]",
      "text/plain": [
       "<Figure size 640x480 with 1 Axes>"
      ]
     },
     "metadata": {},
     "output_type": "display_data"
    }
   ],
   "source": [
    "import matplotlib.pyplot as plt\n",
    "plt.scatter(catalog_all['mass'], catalog_all['spec_virial_hnco'])"
   ]
  },
  {
   "cell_type": "code",
   "execution_count": 27,
   "id": "f877993d-df3b-4456-bd6e-6136fa353082",
   "metadata": {},
   "outputs": [
    {
     "data": {
      "image/png": "[encoded data removed]",
      "text/plain": [
       "<Figure size 640x480 with 1 Axes>"
      ]
     },
     "metadata": {},
     "output_type": "display_data"
    }
   ],
   "source": [
    "average_spectra_hnco[list(average_spectra_hnco.keys())[6]].quicklook()"
   ]
  },
  {
   "cell_type": "code",
   "execution_count": null,
   "id": "0a82f639-ce3c-4847-918f-ae0a7deede9d",
   "metadata": {},
   "outputs": [],
   "source": []
  }
 ],
 "metadata": {
  "kernelspec": {
   "display_name": "Python 3 (ipykernel)",
   "language": "python",
   "name": "python3"
  },
  "language_info": {
   "codemirror_mode": {
    "name": "ipython",
    "version": 3
   },
   "file_extension": ".py",
   "mimetype": "text/x-python",
   "name": "python",
   "nbconvert_exporter": "python",
   "pygments_lexer": "ipython3",
   "version": "3.9.13"
  }
 },
 "nbformat": 4,
 "nbformat_minor": 5
}
